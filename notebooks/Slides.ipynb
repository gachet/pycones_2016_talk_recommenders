{
 "cells": [
  {
   "cell_type": "markdown",
   "metadata": {
    "slideshow": {
     "slide_type": "skip"
    }
   },
   "source": [
    "jupyter nbconvert notebooks/Slides.ipynb --to slides --post serve"
   ]
  },
  {
   "cell_type": "markdown",
   "metadata": {
    "slideshow": {
     "slide_type": "slide"
    }
   },
   "source": [
    "# A Primer on Recommendation Systems \n",
    "\n",
    "# PyconES 2016\n"
   ]
  },
  {
   "cell_type": "markdown",
   "metadata": {
    "slideshow": {
     "slide_type": "slide"
    }
   },
   "source": [
    "## About me (Manuel Garrido)\n",
    "\n",
    "* Freelance Data Scientist\n",
    "* Portugal-->Spain-->/United States\n",
    "* consultant-->analyst-->data scientist\n",
    "* excel-->R-->python-->spark\n",
    "\n",
    "## Contact\n",
    "* [manugarri.com](http://manugarri.com)\n",
    "* @manugarri\n",
    "* hola@manugarri.com\n",
    "* manuel@tribeclick.com / hiring@tribeclick.com"
   ]
  },
  {
   "cell_type": "code",
   "execution_count": 1,
   "metadata": {
    "collapsed": false,
    "slideshow": {
     "slide_type": "notes"
    }
   },
   "outputs": [
    {
     "name": "stdout",
     "output_type": "stream",
     "text": [
      "2016-10-06T11:54:42+02:00\n",
      "\n",
      "CPython 3.5.1\n",
      "IPython 4.2.0\n",
      "\n",
      "compiler   : GCC 4.4.7 20120313 (Red Hat 4.4.7-1)\n",
      "system     : Linux\n",
      "release    : 4.4.0-38-generic\n",
      "machine    : x86_64\n",
      "processor  : x86_64\n",
      "CPU cores  : 8\n",
      "interpreter: 64bit\n"
     ]
    }
   ],
   "source": [
    "%load_ext watermark\n",
    "%watermark"
   ]
  },
  {
   "cell_type": "markdown",
   "metadata": {
    "slideshow": {
     "slide_type": "slide"
    }
   },
   "source": [
    "# About the talk\n",
    "\n",
    "* Entry level\n",
    "* Focused on examples\n",
    "\n",
    "**If you meet the requirements...** \n",
    "\n",
    "```\n",
    "pandas>=0.17\n",
    "numpy\n",
    "scipy\n",
    "```\n",
    "\n",
    "**...then clone the talk's repo and run a notebook**\n",
    "\n",
    "```\n",
    "git clone git@github.com:manugarri/pydata_2016_talk_recommenders.git\n",
    "cd pydata_2016_talk_recommenders\n",
    "gunzip assets/reddit.db.gz\n",
    "jupyter notebook\n",
    "```"
   ]
  },
  {
   "cell_type": "markdown",
   "metadata": {
    "collapsed": true,
    "slideshow": {
     "slide_type": "slide"
    }
   },
   "source": [
    "# 1. What are recommendation systems?\n",
    "\n",
    "![title](./Slides_files/wiki-definition.png \"ShowMyImage\")"
   ]
  },
  {
   "cell_type": "markdown",
   "metadata": {
    "slideshow": {
     "slide_type": "slide"
    }
   },
   "source": [
    "![totle](./Slides_files/lol.jpg)"
   ]
  },
  {
   "cell_type": "markdown",
   "metadata": {
    "slideshow": {
     "slide_type": "slide"
    }
   },
   "source": [
    "### Foundations for recommending items to users:\n",
    "\n",
    "- **Item Information**\n",
    "  - Item characteristics\n",
    "- **User Information**\n",
    "  - User characteristics.\n",
    "  - User preferences.\n",
    "  - Users relationships\n",
    "  - User's previous interaction with our platform\n",
    "- **Platform Information**\n",
    "  - Business goals\n",
    "  - Availability"
   ]
  },
  {
   "cell_type": "markdown",
   "metadata": {
    "slideshow": {
     "slide_type": "notes"
    }
   },
   "source": [
    "How do we recommend items? To do so we need information, any source of information. \n",
    "\n",
    "One clear source of information is the item information , that is, the intrinsic features of the items (is the shoe blue, is it a sneaker, and so on).\n",
    "Another source is the information about the users, who they are, what do they like, which items do they like, and so on\n",
    "Another source of information, is the platform itself.  Things like the business goals or stock availability have some saying in what are we recommending to our users."
   ]
  },
  {
   "cell_type": "markdown",
   "metadata": {
    "slideshow": {
     "slide_type": "slide"
    }
   },
   "source": [
    "## A short note on Similarity\n",
    "\n",
    "* **Edit distance (Lehvenstein & variations)**:  used to measure similarity between two strings. It takes into account how many changes would need to be applied to a word to become another. \n",
    "\n",
    "![title](./Slides_files/Levenshtein.png)\n",
    "\n",
    "* **Jaccard Index**: Useful when computing similarity among sets (one to many relations)\n",
    "\n",
    "$$J(A, B) = \\frac{|A \\bigcap B|}{ |A\\bigcup B|}$$"
   ]
  },
  {
   "cell_type": "markdown",
   "metadata": {
    "slideshow": {
     "slide_type": "notes"
    }
   },
   "source": [
    "One concept that is key to recommendation systems is the concept of similarity. These systems always recommend based on similarities between entities. But one important thing to remember is that similarity can be measure differently depending on what you are measuring.\n",
    "\n",
    "For example, a good way to measure similarity between strings is to use the Lehvenstein distance, which measures how many  insertions, deletions or substitutions do you need to apply to string A to become sttring B.\n",
    "\n",
    "Another metric would be the Jaccard index, that measures similarities between sets. For example, you could compute Jaccards similarity on two groups of friends by dividing how many friends are in both groups by the number of friends on any of the two groups. "
   ]
  },
  {
   "cell_type": "markdown",
   "metadata": {
    "slideshow": {
     "slide_type": "slide"
    }
   },
   "source": [
    "![distances](./Slides_files/diagram_euclidean_manhattan_distance_metrics.png)\n",
    "\n",
    "![cosinm](./Slides_files/cosine.png)\n",
    "\n",
    "* **and many more!**"
   ]
  },
  {
   "cell_type": "markdown",
   "metadata": {
    "slideshow": {
     "slide_type": "notes"
    }
   },
   "source": [
    "Then you have other measures that are more popular and general purpose.\n",
    "\n",
    "The Manhattan Distance is the distance between two points measured along axes at right angles\n",
    "The Euclidean distance or Euclidean metric is the \"ordinary\" (i.e. straight-line) distance between two points\n",
    "Cosine similarity  measures the cosine of the angle between them."
   ]
  },
  {
   "cell_type": "markdown",
   "metadata": {
    "slideshow": {
     "slide_type": "slide"
    }
   },
   "source": [
    "### Recommendation Systems Approaches\n",
    "- **Content Filtering**\n",
    "- **Collaborative Filtering**\n",
    "- **Hybrid Systems**\n",
    "- ** Other (Demographic / Social Recommendations)**"
   ]
  },
  {
   "cell_type": "markdown",
   "metadata": {
    "slideshow": {
     "slide_type": "notes"
    }
   },
   "source": [
    "Here are the main approaches to recommendation systems. Content Filtering, Collaborative filtering, Hybrid systems, and then other  (because you always have to have an other in a list, isnt it)."
   ]
  },
  {
   "cell_type": "markdown",
   "metadata": {
    "slideshow": {
     "slide_type": "slide"
    }
   },
   "source": [
    "#### Demographic recommendations\n",
    "\n",
    "* Use demographic information from the user to recommend items relevant to the user's stratum\n",
    "\n",
    "#### Social recommendations\n",
    "\n",
    "* Users sharing with other users"
   ]
  },
  {
   "cell_type": "markdown",
   "metadata": {
    "slideshow": {
     "slide_type": "notes"
    }
   },
   "source": [
    "Regarding other recommender systems, one way to provide recommendations to your users, if you are lucky to have demographic information about them, is to stratify them based on this demographic information and recommend based on those strata.\n",
    "\n",
    "Then we have a very simple way to recommend items to users, which happens any time we click the \"Share\" button anywhere online."
   ]
  },
  {
   "cell_type": "markdown",
   "metadata": {
    "slideshow": {
     "slide_type": "slide"
    }
   },
   "source": [
    "# Content Filtering \n",
    "\n",
    "In a Content filtering recommendation system, items are mapped into a feature space, and\n",
    "recommendations depend on item characteristics.\n",
    "\n",
    " - That means that all the feature information we use is derived only from the items.\n",
    "\n",
    "- That does not mean that we don't rely on any user information, just that information is used only on the recommendation step, and not at computing time."
   ]
  },
  {
   "cell_type": "markdown",
   "metadata": {
    "slideshow": {
     "slide_type": "notes"
    }
   },
   "source": [
    "We start with content filtering. Which is not a very popular approach nowadays but can still be useful depending on the circumstances.\n",
    "\n",
    "On content filtering, the features used to provide recommendations are derived from the items and only from the items.\n",
    "\n",
    "That does not mean that we dont get any user's input, just that that input is required at recommendation time, not at computing time."
   ]
  },
  {
   "cell_type": "markdown",
   "metadata": {
    "slideshow": {
     "slide_type": "slide"
    }
   },
   "source": [
    "## Example: Content Filtering\n",
    "![title](./Slides_files/pandora0.png \"ShowMyImage\")"
   ]
  },
  {
   "cell_type": "markdown",
   "metadata": {
    "slideshow": {
     "slide_type": "notes"
    }
   },
   "source": [
    "One example of Content filtering would be Pandora, pandora is an online radio that is quite popular in the US.\n",
    "When you join you can select whicn songs, artists or genres you like. Then Pandora uses those songs /artists you selected to  to create a personalized  radio station using similar music."
   ]
  },
  {
   "cell_type": "markdown",
   "metadata": {
    "slideshow": {
     "slide_type": "slide"
    }
   },
   "source": [
    "![title](./Slides_files/pandora1.png \"ShowMyImage\")"
   ]
  },
  {
   "cell_type": "markdown",
   "metadata": {
    "slideshow": {
     "slide_type": "notes"
    }
   },
   "source": [
    "Pandora allows us to add as many songs as we want to our station, each one improving the recommendations Pandora provides us."
   ]
  },
  {
   "cell_type": "markdown",
   "metadata": {
    "slideshow": {
     "slide_type": "slide"
    }
   },
   "source": [
    "![title](./Slides_files/pandora3.png)\n",
    "\n",
    "https://www.pandora.com/about/mgp"
   ]
  },
  {
   "cell_type": "markdown",
   "metadata": {
    "slideshow": {
     "slide_type": "notes"
    }
   },
   "source": [
    "Pandora's Recommendation system is based off the Music Genome Project a project that clains to be the most in depth taxonomy of music. Pandora has a team of musical analysts analyzing 10,000 songs every month, mapping them to a set of 450 distinct musical features. They use these features to power their recommendations."
   ]
  },
  {
   "cell_type": "markdown",
   "metadata": {
    "slideshow": {
     "slide_type": "slide"
    }
   },
   "source": [
    "![title](./Slides_files/pandora4.png)"
   ]
  },
  {
   "cell_type": "markdown",
   "metadata": {
    "slideshow": {
     "slide_type": "notes"
    }
   },
   "source": [
    "Here on the left you can see some of those features, which are very very specific"
   ]
  },
  {
   "cell_type": "markdown",
   "metadata": {
    "slideshow": {
     "slide_type": "slide"
    }
   },
   "source": [
    "## Content Filtering\n",
    "\n",
    "### Pros\n",
    "\n",
    "* Recomending to a new user is easy. We just get user's input and we can recommend right away.\n",
    "* Domain knowledge can be applied\n",
    "\n",
    "### Cons\n",
    "\n",
    "* Need to map each item into the feature space. That means that any time a new item gets added, someone has to manually categorize that item (unless using unsupervised clustering methods).\n",
    "\n",
    "* Recommendations are limited in scope. This means items can't be categorized in new features. Who can say 450 features are all the features necessary to map music?"
   ]
  },
  {
   "cell_type": "markdown",
   "metadata": {
    "slideshow": {
     "slide_type": "notes"
    }
   },
   "source": [
    "The benefits of Content filtering is that, once we have the items mapped, we can recommend to any user right away. Another one is that domain knowledge can be applied, for example, Pandora's team of experts can specify the features required on music better than anyone.\n",
    "\n",
    "One big con of Content filtering systems is that each item needs to be mapped. For example, if there is a new song with a uniquely new characteristic, Pandora's musical analysts would have to first, add that characteristic's features, then, map EVERY SINGLE song into that new characteristic.\n",
    "\n",
    "Another con CF systems have is that the items can only be categorized by the predefined features."
   ]
  },
  {
   "cell_type": "markdown",
   "metadata": {
    "slideshow": {
     "slide_type": "slide"
    }
   },
   "source": [
    "## Practical Example:   Content Filtering Movie recommendation Engine"
   ]
  },
  {
   "cell_type": "markdown",
   "metadata": {
    "slideshow": {
     "slide_type": "-"
    }
   },
   "source": [
    "![title](./Slides_files/ml-logo.png)\n",
    "<br>\n",
    "Precisionrecall.png\n",
    "In this example we will build a recommendation system that recommends movies to users based on Movie features\n",
    "\n",
    "<br>\n",
    "We will use the [Movielens](http://grouplens.org/datasets/movielens/) dataset. A free dataset containing millions of movie ratings by users."
   ]
  },
  {
   "cell_type": "code",
   "execution_count": 2,
   "metadata": {
    "collapsed": false,
    "slideshow": {
     "slide_type": "slide"
    }
   },
   "outputs": [
    {
     "data": {
      "text/html": [
       "<div>\n",
       "<table border=\"1\" class=\"dataframe\">\n",
       "  <thead>\n",
       "    <tr style=\"text-align: right;\">\n",
       "      <th></th>\n",
       "      <th>movie_id</th>\n",
       "      <th>movie_title</th>\n",
       "      <th>movie_genre</th>\n",
       "      <th>Action</th>\n",
       "      <th>Adventure</th>\n",
       "      <th>Animation</th>\n",
       "      <th>Children's</th>\n",
       "      <th>Comedy</th>\n",
       "      <th>Crime</th>\n",
       "      <th>Documentary</th>\n",
       "      <th>...</th>\n",
       "      <th>Fantasy</th>\n",
       "      <th>Film-Noir</th>\n",
       "      <th>Horror</th>\n",
       "      <th>Musical</th>\n",
       "      <th>Mystery</th>\n",
       "      <th>Romance</th>\n",
       "      <th>Sci-Fi</th>\n",
       "      <th>Thriller</th>\n",
       "      <th>War</th>\n",
       "      <th>Western</th>\n",
       "    </tr>\n",
       "  </thead>\n",
       "  <tbody>\n",
       "    <tr>\n",
       "      <th>0</th>\n",
       "      <td>1</td>\n",
       "      <td>Toy Story (1995)</td>\n",
       "      <td>Animation|Children's|Comedy</td>\n",
       "      <td>0</td>\n",
       "      <td>0</td>\n",
       "      <td>1</td>\n",
       "      <td>1</td>\n",
       "      <td>1</td>\n",
       "      <td>0</td>\n",
       "      <td>0</td>\n",
       "      <td>...</td>\n",
       "      <td>0</td>\n",
       "      <td>0</td>\n",
       "      <td>0</td>\n",
       "      <td>0</td>\n",
       "      <td>0</td>\n",
       "      <td>0</td>\n",
       "      <td>0</td>\n",
       "      <td>0</td>\n",
       "      <td>0</td>\n",
       "      <td>0</td>\n",
       "    </tr>\n",
       "    <tr>\n",
       "      <th>1</th>\n",
       "      <td>2</td>\n",
       "      <td>Jumanji (1995)</td>\n",
       "      <td>Adventure|Children's|Fantasy</td>\n",
       "      <td>0</td>\n",
       "      <td>1</td>\n",
       "      <td>0</td>\n",
       "      <td>1</td>\n",
       "      <td>0</td>\n",
       "      <td>0</td>\n",
       "      <td>0</td>\n",
       "      <td>...</td>\n",
       "      <td>1</td>\n",
       "      <td>0</td>\n",
       "      <td>0</td>\n",
       "      <td>0</td>\n",
       "      <td>0</td>\n",
       "      <td>0</td>\n",
       "      <td>0</td>\n",
       "      <td>0</td>\n",
       "      <td>0</td>\n",
       "      <td>0</td>\n",
       "    </tr>\n",
       "    <tr>\n",
       "      <th>2</th>\n",
       "      <td>3</td>\n",
       "      <td>Grumpier Old Men (1995)</td>\n",
       "      <td>Comedy|Romance</td>\n",
       "      <td>0</td>\n",
       "      <td>0</td>\n",
       "      <td>0</td>\n",
       "      <td>0</td>\n",
       "      <td>1</td>\n",
       "      <td>0</td>\n",
       "      <td>0</td>\n",
       "      <td>...</td>\n",
       "      <td>0</td>\n",
       "      <td>0</td>\n",
       "      <td>0</td>\n",
       "      <td>0</td>\n",
       "      <td>0</td>\n",
       "      <td>1</td>\n",
       "      <td>0</td>\n",
       "      <td>0</td>\n",
       "      <td>0</td>\n",
       "      <td>0</td>\n",
       "    </tr>\n",
       "    <tr>\n",
       "      <th>3</th>\n",
       "      <td>4</td>\n",
       "      <td>Waiting to Exhale (1995)</td>\n",
       "      <td>Comedy|Drama</td>\n",
       "      <td>0</td>\n",
       "      <td>0</td>\n",
       "      <td>0</td>\n",
       "      <td>0</td>\n",
       "      <td>1</td>\n",
       "      <td>0</td>\n",
       "      <td>0</td>\n",
       "      <td>...</td>\n",
       "      <td>0</td>\n",
       "      <td>0</td>\n",
       "      <td>0</td>\n",
       "      <td>0</td>\n",
       "      <td>0</td>\n",
       "      <td>0</td>\n",
       "      <td>0</td>\n",
       "      <td>0</td>\n",
       "      <td>0</td>\n",
       "      <td>0</td>\n",
       "    </tr>\n",
       "    <tr>\n",
       "      <th>4</th>\n",
       "      <td>5</td>\n",
       "      <td>Father of the Bride Part II (1995)</td>\n",
       "      <td>Comedy</td>\n",
       "      <td>0</td>\n",
       "      <td>0</td>\n",
       "      <td>0</td>\n",
       "      <td>0</td>\n",
       "      <td>1</td>\n",
       "      <td>0</td>\n",
       "      <td>0</td>\n",
       "      <td>...</td>\n",
       "      <td>0</td>\n",
       "      <td>0</td>\n",
       "      <td>0</td>\n",
       "      <td>0</td>\n",
       "      <td>0</td>\n",
       "      <td>0</td>\n",
       "      <td>0</td>\n",
       "      <td>0</td>\n",
       "      <td>0</td>\n",
       "      <td>0</td>\n",
       "    </tr>\n",
       "  </tbody>\n",
       "</table>\n",
       "<p>5 rows × 21 columns</p>\n",
       "</div>"
      ],
      "text/plain": [
       "   movie_id                         movie_title                   movie_genre  \\\n",
       "0         1                    Toy Story (1995)   Animation|Children's|Comedy   \n",
       "1         2                      Jumanji (1995)  Adventure|Children's|Fantasy   \n",
       "2         3             Grumpier Old Men (1995)                Comedy|Romance   \n",
       "3         4            Waiting to Exhale (1995)                  Comedy|Drama   \n",
       "4         5  Father of the Bride Part II (1995)                        Comedy   \n",
       "\n",
       "   Action  Adventure  Animation  Children's  Comedy  Crime  Documentary  \\\n",
       "0       0          0          1           1       1      0            0   \n",
       "1       0          1          0           1       0      0            0   \n",
       "2       0          0          0           0       1      0            0   \n",
       "3       0          0          0           0       1      0            0   \n",
       "4       0          0          0           0       1      0            0   \n",
       "\n",
       "    ...     Fantasy  Film-Noir  Horror  Musical  Mystery  Romance  Sci-Fi  \\\n",
       "0   ...           0          0       0        0        0        0       0   \n",
       "1   ...           1          0       0        0        0        0       0   \n",
       "2   ...           0          0       0        0        0        1       0   \n",
       "3   ...           0          0       0        0        0        0       0   \n",
       "4   ...           0          0       0        0        0        0       0   \n",
       "\n",
       "   Thriller  War  Western  \n",
       "0         0    0        0  \n",
       "1         0    0        0  \n",
       "2         0    0        0  \n",
       "3         0    0        0  \n",
       "4         0    0        0  \n",
       "\n",
       "[5 rows x 21 columns]"
      ]
     },
     "execution_count": 2,
     "metadata": {},
     "output_type": "execute_result"
    }
   ],
   "source": [
    "import pandas as pd\n",
    "import numpy as np\n",
    "\n",
    "movies_df = pd.read_table('../data/movies.dat', header=None, sep='::', \n",
    "                          names=['movie_id', 'movie_title', 'movie_genre'], engine='python')\n",
    "movies_df = pd.concat([movies_df, movies_df.movie_genre.str.get_dummies(sep='|')], axis=1)  \n",
    "movie_categories = movies_df.columns[3:].tolist()\n",
    "movies_df.head()  "
   ]
  },
  {
   "cell_type": "code",
   "execution_count": 3,
   "metadata": {
    "collapsed": true,
    "slideshow": {
     "slide_type": "slide"
    }
   },
   "outputs": [],
   "source": [
    "user_movies = [\n",
    "    'Die Hard: With a Vengeance (1995)',\n",
    "    'Die Hard (1988)',\n",
    "    'Braveheart (1995)',\n",
    "    'Star Wars: Episode IV - A New Hope (1977)',\n",
    "    'Star Wars: Episode VI - Return of the Jedi (1983)',\n",
    "    'Indiana Jones and the Last Crusade (1989)',\n",
    "    'Toy Story (1995)',\n",
    "    'Aladdin (1992)',\n",
    "    'Lion King, The (1994)',\n",
    "]"
   ]
  },
  {
   "cell_type": "code",
   "execution_count": 4,
   "metadata": {
    "collapsed": false,
    "scrolled": true,
    "slideshow": {
     "slide_type": "slide"
    }
   },
   "outputs": [
    {
     "name": "stdout",
     "output_type": "stream",
     "text": [
      "          index         0\n",
      "0        Action  0.666667\n",
      "1     Adventure  0.333333\n",
      "2     Animation  0.333333\n",
      "3    Children's  0.333333\n",
      "4        Comedy  0.222222\n",
      "5         Crime  0.000000\n",
      "6   Documentary  0.000000\n",
      "7         Drama  0.111111\n",
      "8       Fantasy  0.111111\n",
      "9     Film-Noir  0.000000\n",
      "10       Horror  0.000000\n",
      "11      Musical  0.222222\n",
      "12      Mystery  0.000000\n",
      "13      Romance  0.111111\n",
      "14       Sci-Fi  0.222222\n",
      "15     Thriller  0.222222\n",
      "16          War  0.222222\n",
      "17      Western  0.000000\n"
     ]
    }
   ],
   "source": [
    "def get_user_preferences(user_movies, verbose=False):\n",
    "    user_features = movies_df[movies_df.movie_title.isin(user_movies)].ix[:,3:].T\n",
    "    user_features = user_features.mean(axis=1).reset_index()\n",
    "    if verbose:\n",
    "        print(user_features)\n",
    "    return user_features.ix[:,1].tolist()\n",
    "\n",
    "user_preferences_list = get_user_preferences(user_movies, verbose=True)"
   ]
  },
  {
   "cell_type": "code",
   "execution_count": 5,
   "metadata": {
    "collapsed": true,
    "slideshow": {
     "slide_type": "slide"
    }
   },
   "outputs": [],
   "source": [
    "def get_predicted_movie_score(movie_name, user_preferences): \n",
    "    movie_slice = movies_df[movies_df.movie_title==movie_name].iloc[0]\n",
    "    movie_features = movie_slice[movie_categories]\n",
    "    return np.dot(movie_features, user_preferences_list)"
   ]
  },
  {
   "cell_type": "code",
   "execution_count": 6,
   "metadata": {
    "collapsed": false,
    "slideshow": {
     "slide_type": "slide"
    }
   },
   "outputs": [
    {
     "data": {
      "text/plain": [
       "1.1111111111111112"
      ]
     },
     "execution_count": 6,
     "metadata": {},
     "output_type": "execute_result"
    }
   ],
   "source": [
    "#Action +Sci-Fi + Thriller\n",
    "get_predicted_movie_score('Terminator 2: Judgment Day (1991)', user_preferences_list)"
   ]
  },
  {
   "cell_type": "code",
   "execution_count": 7,
   "metadata": {
    "collapsed": false
   },
   "outputs": [
    {
     "data": {
      "text/plain": [
       "0.77777777777777768"
      ]
     },
     "execution_count": 7,
     "metadata": {},
     "output_type": "execute_result"
    }
   ],
   "source": [
    "#Action + Drama\n",
    "get_predicted_movie_score('Rocky (1976)', user_preferences_list)"
   ]
  },
  {
   "cell_type": "code",
   "execution_count": 8,
   "metadata": {
    "collapsed": false
   },
   "outputs": [
    {
     "data": {
      "text/plain": [
       "0.55555555555555558"
      ]
     },
     "execution_count": 8,
     "metadata": {},
     "output_type": "execute_result"
    }
   ],
   "source": [
    "#Animation + Musical\n",
    "get_predicted_movie_score('Prince of Egypt, The (1998)', user_preferences_list)"
   ]
  },
  {
   "cell_type": "code",
   "execution_count": 9,
   "metadata": {
    "collapsed": false
   },
   "outputs": [
    {
     "data": {
      "text/plain": [
       "0.22222222222222221"
      ]
     },
     "execution_count": 9,
     "metadata": {},
     "output_type": "execute_result"
    }
   ],
   "source": [
    "#Horror + Thriller\n",
    "get_predicted_movie_score('Scream (1996)', user_preferences_list)"
   ]
  },
  {
   "cell_type": "code",
   "execution_count": 10,
   "metadata": {
    "collapsed": false,
    "slideshow": {
     "slide_type": "slide"
    }
   },
   "outputs": [
    {
     "data": {
      "text/html": [
       "<div>\n",
       "<table border=\"1\" class=\"dataframe\">\n",
       "  <thead>\n",
       "    <tr style=\"text-align: right;\">\n",
       "      <th></th>\n",
       "      <th>movie_title</th>\n",
       "      <th>movie_genre</th>\n",
       "    </tr>\n",
       "  </thead>\n",
       "  <tbody>\n",
       "    <tr>\n",
       "      <th>1187</th>\n",
       "      <td>Transformers: The Movie, The (1986)</td>\n",
       "      <td>Action|Animation|Children's|Sci-Fi|Thriller|War</td>\n",
       "    </tr>\n",
       "    <tr>\n",
       "      <th>554</th>\n",
       "      <td>Pagemaster, The (1994)</td>\n",
       "      <td>Action|Adventure|Animation|Children's|Fantasy</td>\n",
       "    </tr>\n",
       "    <tr>\n",
       "      <th>2253</th>\n",
       "      <td>Soldier (1998)</td>\n",
       "      <td>Action|Adventure|Sci-Fi|Thriller|War</td>\n",
       "    </tr>\n",
       "    <tr>\n",
       "      <th>1192</th>\n",
       "      <td>Star Wars: Episode VI - Return of the Jedi (1983)</td>\n",
       "      <td>Action|Adventure|Romance|Sci-Fi|War</td>\n",
       "    </tr>\n",
       "    <tr>\n",
       "      <th>1178</th>\n",
       "      <td>Star Wars: Episode V - The Empire Strikes Back...</td>\n",
       "      <td>Action|Adventure|Drama|Sci-Fi|War</td>\n",
       "    </tr>\n",
       "    <tr>\n",
       "      <th>606</th>\n",
       "      <td>Heavy Metal (1981)</td>\n",
       "      <td>Action|Adventure|Animation|Horror|Sci-Fi</td>\n",
       "    </tr>\n",
       "    <tr>\n",
       "      <th>1972</th>\n",
       "      <td>Condorman (1981)</td>\n",
       "      <td>Action|Adventure|Children's|Comedy</td>\n",
       "    </tr>\n",
       "    <tr>\n",
       "      <th>2651</th>\n",
       "      <td>Inspector Gadget (1999)</td>\n",
       "      <td>Action|Adventure|Children's|Comedy</td>\n",
       "    </tr>\n",
       "    <tr>\n",
       "      <th>542</th>\n",
       "      <td>Super Mario Bros. (1993)</td>\n",
       "      <td>Action|Adventure|Children's|Sci-Fi</td>\n",
       "    </tr>\n",
       "    <tr>\n",
       "      <th>1197</th>\n",
       "      <td>Army of Darkness (1993)</td>\n",
       "      <td>Action|Adventure|Comedy|Horror|Sci-Fi</td>\n",
       "    </tr>\n",
       "  </tbody>\n",
       "</table>\n",
       "</div>"
      ],
      "text/plain": [
       "                                            movie_title  \\\n",
       "1187                Transformers: The Movie, The (1986)   \n",
       "554                              Pagemaster, The (1994)   \n",
       "2253                                     Soldier (1998)   \n",
       "1192  Star Wars: Episode VI - Return of the Jedi (1983)   \n",
       "1178  Star Wars: Episode V - The Empire Strikes Back...   \n",
       "606                                  Heavy Metal (1981)   \n",
       "1972                                   Condorman (1981)   \n",
       "2651                            Inspector Gadget (1999)   \n",
       "542                            Super Mario Bros. (1993)   \n",
       "1197                            Army of Darkness (1993)   \n",
       "\n",
       "                                          movie_genre  \n",
       "1187  Action|Animation|Children's|Sci-Fi|Thriller|War  \n",
       "554     Action|Adventure|Animation|Children's|Fantasy  \n",
       "2253             Action|Adventure|Sci-Fi|Thriller|War  \n",
       "1192              Action|Adventure|Romance|Sci-Fi|War  \n",
       "1178                Action|Adventure|Drama|Sci-Fi|War  \n",
       "606          Action|Adventure|Animation|Horror|Sci-Fi  \n",
       "1972               Action|Adventure|Children's|Comedy  \n",
       "2651               Action|Adventure|Children's|Comedy  \n",
       "542                Action|Adventure|Children's|Sci-Fi  \n",
       "1197            Action|Adventure|Comedy|Horror|Sci-Fi  "
      ]
     },
     "execution_count": 10,
     "metadata": {},
     "output_type": "execute_result"
    }
   ],
   "source": [
    "def get_movie_recommendations(user_preferences, n_recommendations):  \n",
    "    movies_df['score'] = movies_df.movie_title.apply(get_predicted_movie_score, args=([user_preferences]))\n",
    "    movies_df.sort_values(by=['score'], ascending=False, inplace=True)\n",
    "    del movies_df['score']\n",
    "    return movies_df[['movie_title','movie_genre']].head(n_recommendations)\n",
    "\n",
    "user_movie_recomendations = get_movie_recommendations(user_preferences_list, 10)\n",
    "user_movie_recomendations"
   ]
  },
  {
   "cell_type": "markdown",
   "metadata": {
    "slideshow": {
     "slide_type": "slide"
    }
   },
   "source": [
    "#### We can even ask the user to explicitly state their opinion"
   ]
  },
  {
   "cell_type": "code",
   "execution_count": 11,
   "metadata": {
    "collapsed": false
   },
   "outputs": [],
   "source": [
    "from collections import OrderedDict\n",
    "\n",
    "\n",
    "user_preferences = OrderedDict(zip(movie_categories, [3]*len(movie_categories)))\n",
    "\n",
    "\n",
    "user_preferences['Action'] = 5  \n",
    "user_preferences['Adventure'] = 5  \n",
    "user_preferences['Fantasy'] = 5  \n",
    "user_preferences['Sci-Fi'] = 5  \n",
    "\n",
    "user_preferences['Crime'] = 2  \n",
    "user_preferences['Horror'] = 2  \n",
    "user_preferences['Thriller'] = 2  \n",
    "\n",
    "user_preferences['Musical'] = 1  \n",
    "user_preferences['Romance'] = 1  \n",
    "user_preferences['Western'] =1  \n",
    "user_preferences['Animation'] = 1  \n",
    "user_preferences[\"Children's\"] = 1  \n",
    "user_preferences['Documentary'] = 1  \n",
    "user_preferences['Drama'] = 1  \n",
    "user_preferences['Film-Noir'] = 1  \n",
    "\n",
    "user_preferences_list = list(user_preferences.values())"
   ]
  },
  {
   "cell_type": "code",
   "execution_count": 12,
   "metadata": {
    "collapsed": false,
    "slideshow": {
     "slide_type": "slide"
    }
   },
   "outputs": [
    {
     "data": {
      "text/html": [
       "<div>\n",
       "<table border=\"1\" class=\"dataframe\">\n",
       "  <thead>\n",
       "    <tr style=\"text-align: right;\">\n",
       "      <th></th>\n",
       "      <th>movie_title</th>\n",
       "      <th>movie_genre</th>\n",
       "    </tr>\n",
       "  </thead>\n",
       "  <tbody>\n",
       "    <tr>\n",
       "      <th>257</th>\n",
       "      <td>Star Wars: Episode IV - A New Hope (1977)</td>\n",
       "      <td>Action|Adventure|Fantasy|Sci-Fi</td>\n",
       "    </tr>\n",
       "    <tr>\n",
       "      <th>2253</th>\n",
       "      <td>Soldier (1998)</td>\n",
       "      <td>Action|Adventure|Sci-Fi|Thriller|War</td>\n",
       "    </tr>\n",
       "    <tr>\n",
       "      <th>2559</th>\n",
       "      <td>Star Wars: Episode I - The Phantom Menace (1999)</td>\n",
       "      <td>Action|Adventure|Fantasy|Sci-Fi</td>\n",
       "    </tr>\n",
       "    <tr>\n",
       "      <th>2036</th>\n",
       "      <td>Tron (1982)</td>\n",
       "      <td>Action|Adventure|Fantasy|Sci-Fi</td>\n",
       "    </tr>\n",
       "    <tr>\n",
       "      <th>1197</th>\n",
       "      <td>Army of Darkness (1993)</td>\n",
       "      <td>Action|Adventure|Comedy|Horror|Sci-Fi</td>\n",
       "    </tr>\n",
       "    <tr>\n",
       "      <th>1985</th>\n",
       "      <td>Honey, I Shrunk the Kids (1989)</td>\n",
       "      <td>Adventure|Children's|Comedy|Fantasy|Sci-Fi</td>\n",
       "    </tr>\n",
       "    <tr>\n",
       "      <th>1192</th>\n",
       "      <td>Star Wars: Episode VI - Return of the Jedi (1983)</td>\n",
       "      <td>Action|Adventure|Romance|Sci-Fi|War</td>\n",
       "    </tr>\n",
       "    <tr>\n",
       "      <th>1178</th>\n",
       "      <td>Star Wars: Episode V - The Empire Strikes Back...</td>\n",
       "      <td>Action|Adventure|Drama|Sci-Fi|War</td>\n",
       "    </tr>\n",
       "    <tr>\n",
       "      <th>1630</th>\n",
       "      <td>Starship Troopers (1997)</td>\n",
       "      <td>Action|Adventure|Sci-Fi|War</td>\n",
       "    </tr>\n",
       "    <tr>\n",
       "      <th>1539</th>\n",
       "      <td>Men in Black (1997)</td>\n",
       "      <td>Action|Adventure|Comedy|Sci-Fi</td>\n",
       "    </tr>\n",
       "  </tbody>\n",
       "</table>\n",
       "</div>"
      ],
      "text/plain": [
       "                                            movie_title  \\\n",
       "257           Star Wars: Episode IV - A New Hope (1977)   \n",
       "2253                                     Soldier (1998)   \n",
       "2559   Star Wars: Episode I - The Phantom Menace (1999)   \n",
       "2036                                        Tron (1982)   \n",
       "1197                            Army of Darkness (1993)   \n",
       "1985                    Honey, I Shrunk the Kids (1989)   \n",
       "1192  Star Wars: Episode VI - Return of the Jedi (1983)   \n",
       "1178  Star Wars: Episode V - The Empire Strikes Back...   \n",
       "1630                           Starship Troopers (1997)   \n",
       "1539                                Men in Black (1997)   \n",
       "\n",
       "                                     movie_genre  \n",
       "257              Action|Adventure|Fantasy|Sci-Fi  \n",
       "2253        Action|Adventure|Sci-Fi|Thriller|War  \n",
       "2559             Action|Adventure|Fantasy|Sci-Fi  \n",
       "2036             Action|Adventure|Fantasy|Sci-Fi  \n",
       "1197       Action|Adventure|Comedy|Horror|Sci-Fi  \n",
       "1985  Adventure|Children's|Comedy|Fantasy|Sci-Fi  \n",
       "1192         Action|Adventure|Romance|Sci-Fi|War  \n",
       "1178           Action|Adventure|Drama|Sci-Fi|War  \n",
       "1630                 Action|Adventure|Sci-Fi|War  \n",
       "1539              Action|Adventure|Comedy|Sci-Fi  "
      ]
     },
     "execution_count": 12,
     "metadata": {},
     "output_type": "execute_result"
    }
   ],
   "source": [
    "get_movie_recommendations(user_preferences_list, 10) "
   ]
  },
  {
   "cell_type": "markdown",
   "metadata": {
    "slideshow": {
     "slide_type": "slide"
    }
   },
   "source": [
    "### Recommendation Systems Evaluation\n",
    "\n",
    "- **Recommendation as classification  (recommend some good items)**\n",
    "![title](./Slides_files/Precisionrecall.png)\n",
    "\n",
    "*others include (Area Under the Curve (AUC) , F1-score)*"
   ]
  },
  {
   "cell_type": "markdown",
   "metadata": {
    "slideshow": {
     "slide_type": "slide"
    }
   },
   "source": [
    "- **Recommendation as ranking ( prediction of user ratings)**\n",
    "![rmse](./Slides_files/rmse.jpg)\n",
    "\n",
    "*another evaluation metrics would be NDCG*\n",
    "- **Recommendation as utility optimization**\n",
    "\n",
    "*[Here](http://jmlr.csail.mit.edu/papers/volume10/gunawardana09a/gunawardana09a.pdf) is an extremely interesting paper on Recsys evaluation*"
   ]
  },
  {
   "cell_type": "code",
   "execution_count": 13,
   "metadata": {
    "collapsed": true,
    "slideshow": {
     "slide_type": "slide"
    }
   },
   "outputs": [],
   "source": [
    "def calculate_precision_recall(user_movies, user_recommendations):\n",
    "    true_positive = len([m for m in user_recommendations if m in user_movies])\n",
    "    false_positive = len(user_recommendations) - true_positive\n",
    "    false_negatives = len([m for m in user_movies if m not in user_recommendations])\n",
    "    precision = true_positive / (true_positive + false_positive)\n",
    "    recall = true_positive / (true_positive + false_negatives)\n",
    "    if not (precision or recall):\n",
    "        return 0,0,0\n",
    "    f1_score = 2 * (precision*recall) / (precision + recall)\n",
    "    return precision, recall, f1_score"
   ]
  },
  {
   "cell_type": "code",
   "execution_count": 14,
   "metadata": {
    "collapsed": false,
    "slideshow": {
     "slide_type": "slide"
    }
   },
   "outputs": [
    {
     "data": {
      "text/plain": [
       "['Die Hard: With a Vengeance (1995)',\n",
       " 'Die Hard (1988)',\n",
       " 'Braveheart (1995)',\n",
       " 'Star Wars: Episode IV - A New Hope (1977)',\n",
       " 'Star Wars: Episode VI - Return of the Jedi (1983)',\n",
       " 'Indiana Jones and the Last Crusade (1989)',\n",
       " 'Toy Story (1995)',\n",
       " 'Aladdin (1992)',\n",
       " 'Lion King, The (1994)']"
      ]
     },
     "execution_count": 14,
     "metadata": {},
     "output_type": "execute_result"
    }
   ],
   "source": [
    "user_movies"
   ]
  },
  {
   "cell_type": "code",
   "execution_count": 15,
   "metadata": {
    "collapsed": false
   },
   "outputs": [
    {
     "data": {
      "text/plain": [
       "['Transformers: The Movie, The (1986)',\n",
       " 'Pagemaster, The (1994)',\n",
       " 'Soldier (1998)',\n",
       " 'Star Wars: Episode VI - Return of the Jedi (1983)',\n",
       " 'Star Wars: Episode V - The Empire Strikes Back (1980)',\n",
       " 'Heavy Metal (1981)',\n",
       " 'Condorman (1981)',\n",
       " 'Inspector Gadget (1999)',\n",
       " 'Super Mario Bros. (1993)',\n",
       " 'Army of Darkness (1993)']"
      ]
     },
     "execution_count": 15,
     "metadata": {},
     "output_type": "execute_result"
    }
   ],
   "source": [
    "user_movie_recomendations_list = user_movie_recomendations.movie_title.tolist()\n",
    "user_movie_recomendations_list"
   ]
  },
  {
   "cell_type": "code",
   "execution_count": 16,
   "metadata": {
    "collapsed": false
   },
   "outputs": [
    {
     "data": {
      "text/plain": [
       "(0.1, 0.1111111111111111, 0.10526315789473685)"
      ]
     },
     "execution_count": 16,
     "metadata": {},
     "output_type": "execute_result"
    }
   ],
   "source": [
    "calculate_precision_recall(user_movies, user_movie_recomendations_list)"
   ]
  },
  {
   "cell_type": "markdown",
   "metadata": {
    "slideshow": {
     "slide_type": "skip"
    }
   },
   "source": [
    "We can now load the ratings dataset, which contains rating information for each user. And use that to evaluate our model on a sample of the users."
   ]
  },
  {
   "cell_type": "code",
   "execution_count": 17,
   "metadata": {
    "collapsed": false,
    "slideshow": {
     "slide_type": "skip"
    }
   },
   "outputs": [
    {
     "data": {
      "text/html": [
       "<div>\n",
       "<table border=\"1\" class=\"dataframe\">\n",
       "  <thead>\n",
       "    <tr style=\"text-align: right;\">\n",
       "      <th></th>\n",
       "      <th>user_id</th>\n",
       "      <th>movie_title</th>\n",
       "      <th>movie_id</th>\n",
       "      <th>rating</th>\n",
       "      <th>movie_genre</th>\n",
       "    </tr>\n",
       "  </thead>\n",
       "  <tbody>\n",
       "    <tr>\n",
       "      <th>0</th>\n",
       "      <td>1</td>\n",
       "      <td>One Flew Over the Cuckoo's Nest (1975)</td>\n",
       "      <td>1193</td>\n",
       "      <td>5</td>\n",
       "      <td>Drama</td>\n",
       "    </tr>\n",
       "    <tr>\n",
       "      <th>1</th>\n",
       "      <td>2</td>\n",
       "      <td>One Flew Over the Cuckoo's Nest (1975)</td>\n",
       "      <td>1193</td>\n",
       "      <td>5</td>\n",
       "      <td>Drama</td>\n",
       "    </tr>\n",
       "    <tr>\n",
       "      <th>2</th>\n",
       "      <td>12</td>\n",
       "      <td>One Flew Over the Cuckoo's Nest (1975)</td>\n",
       "      <td>1193</td>\n",
       "      <td>4</td>\n",
       "      <td>Drama</td>\n",
       "    </tr>\n",
       "    <tr>\n",
       "      <th>3</th>\n",
       "      <td>15</td>\n",
       "      <td>One Flew Over the Cuckoo's Nest (1975)</td>\n",
       "      <td>1193</td>\n",
       "      <td>4</td>\n",
       "      <td>Drama</td>\n",
       "    </tr>\n",
       "    <tr>\n",
       "      <th>4</th>\n",
       "      <td>17</td>\n",
       "      <td>One Flew Over the Cuckoo's Nest (1975)</td>\n",
       "      <td>1193</td>\n",
       "      <td>5</td>\n",
       "      <td>Drama</td>\n",
       "    </tr>\n",
       "  </tbody>\n",
       "</table>\n",
       "</div>"
      ],
      "text/plain": [
       "   user_id                             movie_title  movie_id  rating  \\\n",
       "0        1  One Flew Over the Cuckoo's Nest (1975)      1193       5   \n",
       "1        2  One Flew Over the Cuckoo's Nest (1975)      1193       5   \n",
       "2       12  One Flew Over the Cuckoo's Nest (1975)      1193       4   \n",
       "3       15  One Flew Over the Cuckoo's Nest (1975)      1193       4   \n",
       "4       17  One Flew Over the Cuckoo's Nest (1975)      1193       5   \n",
       "\n",
       "  movie_genre  \n",
       "0       Drama  \n",
       "1       Drama  \n",
       "2       Drama  \n",
       "3       Drama  \n",
       "4       Drama  "
      ]
     },
     "execution_count": 17,
     "metadata": {},
     "output_type": "execute_result"
    }
   ],
   "source": [
    "ratings_df = pd.read_table('../data/ratings.dat', header=None, sep='::', \n",
    "                          names=['user_id', 'movie_id', 'rating', 'timestamp'], engine='python')\n",
    "\n",
    "#we dont care about the time the rating was given\n",
    "del ratings_df['timestamp']\n",
    "\n",
    "#replace movie_id with movie_title for legibility\n",
    "ratings_df = pd.merge(ratings_df, movies_df, on='movie_id')[['user_id', 'movie_title', 'movie_id','rating', 'movie_genre']]\n",
    "\n",
    "ratings_df.head()  "
   ]
  },
  {
   "cell_type": "code",
   "execution_count": 18,
   "metadata": {
    "collapsed": true,
    "slideshow": {
     "slide_type": "skip"
    }
   },
   "outputs": [],
   "source": [
    "def get_user_score_pr(user_id, n_recommendations):\n",
    "    user_movies = ratings_df[ratings_df.user_id==user_id].movie_title.tolist()\n",
    "    user_preferences = get_user_preferences(user_movies)\n",
    "    user_recommendations = get_movie_recommendations(user_preferences, n_recommendations).movie_title.tolist()\n",
    "    return calculate_precision_recall(user_movies, user_recommendations)"
   ]
  },
  {
   "cell_type": "markdown",
   "metadata": {
    "slideshow": {
     "slide_type": "skip"
    }
   },
   "source": [
    "Our previous `get_movie_recommendations` and `get_user_preferences` implementations, though educational, were pretty slow. We can write it on a vectorized for using pandas indexes and matrix multiplication"
   ]
  },
  {
   "cell_type": "code",
   "execution_count": 19,
   "metadata": {
    "collapsed": true,
    "slideshow": {
     "slide_type": "skip"
    }
   },
   "outputs": [],
   "source": [
    "movies_df_vect = movies_df.set_index('movie_id')\n",
    "\n",
    "def get_user_preferences_vect(user_movie_ids):\n",
    "    user_features = movies_df_vect.loc[user_movie_ids].ix[:,2:].T\n",
    "    user_features = user_features.mean(axis=1).reset_index()\n",
    "    return user_features.ix[:,1].tolist()\n",
    "\n",
    "def get_movie_recommendations_vect(user_id, ratings_df, n_recommendations):\n",
    "    user_movie_ids = ratings_df[ratings_df.user_id==user_id].movie_id.tolist()\n",
    "    user_preferences = get_user_preferences_vect(user_movie_ids)\n",
    "    user_predicted_scores = movies_df_vect.ix[:,2:].as_matrix() @ user_preferences\n",
    "    user_top_movies_indx = np.argpartition(user_predicted_scores, -1*n_recommendations)[-1*n_recommendations:]\n",
    "    return user_top_movies_indx\n",
    "\n",
    "def evaluate_user(user_id, train_df, test_df, n_recommendations):\n",
    "    user_movies_idx = train_df[train_df.user_id==user_id].movie_id.tolist()\n",
    "    user_recommendation_idx = get_movie_recommendations_vect(user_id, test_df, n_recommendations)\n",
    "    return calculate_precision_recall(user_movies_idx, user_recommendation_idx)"
   ]
  },
  {
   "cell_type": "markdown",
   "metadata": {
    "slideshow": {
     "slide_type": "skip"
    }
   },
   "source": [
    "Now we do a split of the data into a training set and a test set. We use scikit-learn [StratifiedShuffleSplit](http://scikit-learn.org/0.17/modules/generated/sklearn.cross_validation.StratifiedShuffleSplit.html) to split the dataset and make sure that both training and test sets have a portion of each user's ratings, so for each user, we predict on a subset of the movies he/she rated and evaluate on the rest."
   ]
  },
  {
   "cell_type": "code",
   "execution_count": 20,
   "metadata": {
    "collapsed": true,
    "slideshow": {
     "slide_type": "skip"
    }
   },
   "outputs": [],
   "source": [
    "from sklearn.model_selection import StratifiedShuffleSplit\n",
    "\n",
    "sss = StratifiedShuffleSplit(n_splits=1, test_size=0.5, random_state=0)\n",
    "splits = sss.split(ratings_df.movie_id, ratings_df.user_id)\n",
    "train_splits = [s for s in splits][0]\n",
    "\n",
    "train_df = ratings_df.loc[train_splits[0]]\n",
    "test_df = ratings_df.loc[train_splits[1]]"
   ]
  },
  {
   "cell_type": "code",
   "execution_count": 21,
   "metadata": {
    "collapsed": false,
    "slideshow": {
     "slide_type": "skip"
    }
   },
   "outputs": [
    {
     "name": "stdout",
     "output_type": "stream",
     "text": [
      "[ 0.0499      0.00240147  0.00443019]\n"
     ]
    }
   ],
   "source": [
    "user_sample_size = 1000\n",
    "n_recommendations = 10\n",
    "sample_users = np.random.choice(train_df.user_id, user_sample_size)\n",
    "user_evaluation_results = []\n",
    "\n",
    "for user_id in sample_users:\n",
    "    user_evaluation_results.append(evaluate_user(user_id,  train_df, test_df ,n_recommendations))\n",
    "print(np.average(user_evaluation_results, axis=0))"
   ]
  },
  {
   "cell_type": "markdown",
   "metadata": {
    "slideshow": {
     "slide_type": "skip"
    }
   },
   "source": [
    "# Normalized Discounted Cumulative Gain (NDCG)"
   ]
  },
  {
   "cell_type": "markdown",
   "metadata": {
    "slideshow": {
     "slide_type": "skip"
    }
   },
   "source": [
    "Another alternative to evaluate recommendation systems is to use Normalized Discounted Cumulative Gain.\n",
    "\n",
    "\n",
    "Basically, NDCG scores a list of ranked items (i.e. user scored movies versus recommendation system top predicted scores), giving more weight to the items that appear first.\n",
    "\n",
    "[Here](http://fastml.com/evaluating-recommender-systems/) is a good article on the matter"
   ]
  },
  {
   "cell_type": "code",
   "execution_count": 22,
   "metadata": {
    "collapsed": false,
    "slideshow": {
     "slide_type": "skip"
    }
   },
   "outputs": [],
   "source": [
    "#taken from https://gist.github.com/bwhite/3726239\n",
    "def dcg_at_k(r, k, method=0):\n",
    "    \"\"\"Score is discounted cumulative gain (dcg)\n",
    "    Relevance is positive real values.  Can use binary\n",
    "    as the previous methods.\n",
    "    Example from\n",
    "    http://www.stanford.edu/class/cs276/handouts/EvaluationNew-handout-6-per.pdf\n",
    "    >>> r = [3, 2, 3, 0, 0, 1, 2, 2, 3, 0]\n",
    "    >>> dcg_at_k(r, 1)\n",
    "    3.0\n",
    "    >>> dcg_at_k(r, 1, method=1)\n",
    "    3.0\n",
    "    >>> dcg_at_k(r, 2)\n",
    "    5.0\n",
    "    >>> dcg_at_k(r, 2, method=1)\n",
    "    4.2618595071429155\n",
    "    >>> dcg_at_k(r, 10)\n",
    "    9.6051177391888114\n",
    "    >>> dcg_at_k(r, 11)\n",
    "    9.6051177391888114\n",
    "    Args:\n",
    "        r: Relevance scores (list or numpy) in rank order\n",
    "            (first element is the first item)\n",
    "        k: Number of results to consider\n",
    "        method: If 0 then weights are [1.0, 1.0, 0.6309, 0.5, 0.4307, ...]\n",
    "                If 1 then weights are [1.0, 0.6309, 0.5, 0.4307, ...]\n",
    "    Returns:\n",
    "        Discounted cumulative gain\n",
    "    \"\"\"\n",
    "    r = np.asfarray(r)[:k]\n",
    "    if r.size:\n",
    "        if method == 0:\n",
    "            return r[0] + np.sum(r[1:] / np.log2(np.arange(2, r.size + 1)))\n",
    "        elif method == 1:\n",
    "            return np.sum(r / np.log2(np.arange(2, r.size + 2)))\n",
    "        else:\n",
    "            raise ValueError('method must be 0 or 1.')\n",
    "    return 0.\n",
    "\n",
    "\n",
    "def ndcg_at_k(r, k, method=0):\n",
    "    \"\"\"Score is normalized discounted cumulative gain (ndcg)\n",
    "    Relevance is positive real values.  Can use binary\n",
    "    as the previous methods.\n",
    "    Example from\n",
    "    http://www.stanford.edu/class/cs276/handouts/EvaluationNew-handout-6-per.pdf\n",
    "    >>> r = [3, 2, 3, 0, 0, 1, 2, 2, 3, 0]\n",
    "    >>> ndcg_at_k(r, 1)\n",
    "    1.0\n",
    "    >>> r = [2, 1, 2, 0]\n",
    "    >>> ndcg_at_k(r, 4)\n",
    "    0.9203032077642922\n",
    "    >>> ndcg_at_k(r, 4, method=1)\n",
    "    0.96519546960144276\n",
    "    >>> ndcg_at_k([0], 1)\n",
    "    0.0\n",
    "    >>> ndcg_at_k([1], 2)\n",
    "    1.0\n",
    "    Args:\n",
    "        r: Relevance scores (list or numpy) in rank order\n",
    "            (first element is the first item)\n",
    "        k: Number of results to consider\n",
    "        method: If 0 then weights are [1.0, 1.0, 0.6309, 0.5, 0.4307, ...]\n",
    "                If 1 then weights are [1.0, 0.6309, 0.5, 0.4307, ...]\n",
    "    Returns:\n",
    "        Normalized discounted cumulative gain\n",
    "    \"\"\"\n",
    "    dcg_max = dcg_at_k(sorted(r, reverse=True), k, method)\n",
    "    if not dcg_max:\n",
    "        return 0.\n",
    "    return dcg_at_k(r, k, method) / dcg_max\n",
    "\n",
    "def calculate_ndcg(user_movies, user_movie_recomendations_list):\n",
    "    r = [1.  if movie in user_movies else 0. for movie in user_movie_recomendations_list]\n",
    "    return ndcg_at_k(r, len(user_movie_recomendations_list))\n",
    "\n",
    "def evaluate_user_ndcg(user_id, train_df, test_df, n_recommendations):\n",
    "    user_movies_idx = train_df[train_df.user_id==user_id].movie_id.tolist()\n",
    "    user_recommendation_idx = get_movie_recommendations_vect(user_id, test_df, n_recommendations)\n",
    "    return calculate_ndcg(user_movies_idx, user_recommendation_idx)"
   ]
  },
  {
   "cell_type": "code",
   "execution_count": 23,
   "metadata": {
    "collapsed": false,
    "slideshow": {
     "slide_type": "skip"
    }
   },
   "outputs": [
    {
     "name": "stdout",
     "output_type": "stream",
     "text": [
      "0.190306242771\n"
     ]
    }
   ],
   "source": [
    "user_sample_size = 1000\n",
    "n_recommendations = 10\n",
    "sample_users = np.random.choice(train_df.user_id, user_sample_size)\n",
    "user_evaluation_results = []\n",
    "\n",
    "for user_id in sample_users:\n",
    "    user_evaluation_results.append(evaluate_user_ndcg(user_id,  train_df, test_df ,n_recommendations))\n",
    "print(np.average(user_evaluation_results, axis=0))"
   ]
  },
  {
   "cell_type": "markdown",
   "metadata": {
    "slideshow": {
     "slide_type": "slide"
    }
   },
   "source": [
    "# Collaborative Filtering  [(Breese et al., 1998)](https://www.microsoft.com/en-us/research/publication/empirical-analysis-of-predictive-algorithms-for-collaborative-filtering/) \n",
    "\n",
    "In collaborative filtering, item features are derived from individual user behaviors or attitudes.\n",
    "\n",
    "The assumption is that users get value from recommendations based on other users with similar tastes. Users who agreed on preferred items in the\n",
    "past will tend to agree in the future too\n",
    "\n",
    "Unleases a potentially much bigger dataset to base our recommendations on."
   ]
  },
  {
   "cell_type": "markdown",
   "metadata": {
    "slideshow": {
     "slide_type": "slide"
    }
   },
   "source": [
    "### 2 Basic approaches:\n",
    "\n",
    "* Item based collaborative filtering (Item-Item). Measure similarity between items\n",
    "\n",
    "* User based collaborative filtering (Item-User). Measure similarity between users"
   ]
  },
  {
   "cell_type": "markdown",
   "metadata": {
    "slideshow": {
     "slide_type": "slide"
    }
   },
   "source": [
    "## Example: Item-Item Collaborative Filtering\n",
    "\n",
    "![amazon](./Slides_files/amazon3.png)\n",
    " \n",
    "![amazon](./Slides_files/amazon4.png)\n"
   ]
  },
  {
   "cell_type": "markdown",
   "metadata": {
    "slideshow": {
     "slide_type": "notes"
    }
   },
   "source": [
    "On earlier versions of Amazon, recommendations where provided based on  user purchases. How [Amazon](http://www.cin.ufpe.br/~idal/rs/Amazon-Recommendations.pdf) described their algorithm is above. They used cosine similarity to compute the similarity between items."
   ]
  },
  {
   "cell_type": "markdown",
   "metadata": {
    "slideshow": {
     "slide_type": "slide"
    }
   },
   "source": [
    "## Example: User-Item Collaborative Filtering\n",
    "\n",
    "![facebook](./Slides_files/facebook.png)"
   ]
  },
  {
   "cell_type": "markdown",
   "metadata": {
    "slideshow": {
     "slide_type": "notes"
    }
   },
   "source": [
    "One obvious example of User item collaborative filtering is Facebook 'Friends you may know' even though the implementation is graph based, is using users that are similar to you in terms of the friends you share to recommend new friends to you based on your friends' friends "
   ]
  },
  {
   "cell_type": "markdown",
   "metadata": {
    "slideshow": {
     "slide_type": "slide"
    }
   },
   "source": [
    "### Collaborative filtering\n",
    "\n",
    "#### Pros\n",
    "\n",
    "* Capable of recommending new items without having to manually map them on the feature space. \n",
    "* Capable to find recommendations based on hidden features that an expert wouldn't be able to find (for example, combination of genres or actors).\n",
    "* Domain agnostic.\n",
    "\n",
    "#### Cons\n",
    "\n",
    "* Cold Start. We need lots of user interaction data to be able to start building our features\n",
    "* Every user interaction affects the features. "
   ]
  },
  {
   "cell_type": "markdown",
   "metadata": {
    "slideshow": {
     "slide_type": "slide"
    }
   },
   "source": [
    "## Exercise: Item-Item Collaborative filtering on Reddit.\n",
    "\n",
    "I am going to show you how to build a recommendation engine for Reddit!\n",
    "\n",
    "A live example of it is located at http://findasub.manugarri.com\n",
    "\n",
    "The goal can be written down as  \"given a user's set of subreddits, recommend new subredits that are similar\". \n",
    "\n",
    "In this system,  the features of each item (subreddit) will be the similarities of this subreddit with the others"
   ]
  },
  {
   "cell_type": "markdown",
   "metadata": {
    "slideshow": {
     "slide_type": "slide"
    }
   },
   "source": [
    "```\n",
    "manuel@manuel-P35V2 pycones_2016_talk $ sqlite3 assets/reddit.db \n",
    "SQLite version 3.9.2 2015-11-02 18:31:45\n",
    "Enter \".help\" for usage hints.\n",
    "sqlite> .schema\n",
    "CREATE TABLE redditors (redditor varchar(30), sub varchar(1000));\n",
    "CREATE TABLE similarity (sub1 varchar(30), sub2 varchar(1000), similarity float);\n",
    "sqlite> \n",
    "\n",
    "```"
   ]
  },
  {
   "cell_type": "code",
   "execution_count": 24,
   "metadata": {
    "collapsed": false
   },
   "outputs": [
    {
     "name": "stdout",
     "output_type": "stream",
     "text": [
      "   count(*)\n",
      "0   1756328\n"
     ]
    },
    {
     "data": {
      "text/html": [
       "<div>\n",
       "<table border=\"1\" class=\"dataframe\">\n",
       "  <thead>\n",
       "    <tr style=\"text-align: right;\">\n",
       "      <th></th>\n",
       "      <th>redditor</th>\n",
       "      <th>sub</th>\n",
       "    </tr>\n",
       "  </thead>\n",
       "  <tbody>\n",
       "    <tr>\n",
       "      <th>0</th>\n",
       "      <td>bananashirt178</td>\n",
       "      <td>memes</td>\n",
       "    </tr>\n",
       "    <tr>\n",
       "      <th>1</th>\n",
       "      <td>tweed08</td>\n",
       "      <td>memes</td>\n",
       "    </tr>\n",
       "    <tr>\n",
       "      <th>2</th>\n",
       "      <td>tweed08</td>\n",
       "      <td>Portal</td>\n",
       "    </tr>\n",
       "    <tr>\n",
       "      <th>3</th>\n",
       "      <td>KTM950Guy</td>\n",
       "      <td>beerporn</td>\n",
       "    </tr>\n",
       "    <tr>\n",
       "      <th>4</th>\n",
       "      <td>braidedbutthair</td>\n",
       "      <td>beerporn</td>\n",
       "    </tr>\n",
       "    <tr>\n",
       "      <th>5</th>\n",
       "      <td>ipathological</td>\n",
       "      <td>beerporn</td>\n",
       "    </tr>\n",
       "    <tr>\n",
       "      <th>6</th>\n",
       "      <td>justinthreee</td>\n",
       "      <td>memes</td>\n",
       "    </tr>\n",
       "    <tr>\n",
       "      <th>7</th>\n",
       "      <td>jake420</td>\n",
       "      <td>shittyadvice</td>\n",
       "    </tr>\n",
       "    <tr>\n",
       "      <th>8</th>\n",
       "      <td>jake420</td>\n",
       "      <td>memes</td>\n",
       "    </tr>\n",
       "    <tr>\n",
       "      <th>9</th>\n",
       "      <td>jake420</td>\n",
       "      <td>findareddit</td>\n",
       "    </tr>\n",
       "  </tbody>\n",
       "</table>\n",
       "</div>"
      ],
      "text/plain": [
       "          redditor           sub\n",
       "0   bananashirt178         memes\n",
       "1          tweed08         memes\n",
       "2          tweed08        Portal\n",
       "3        KTM950Guy      beerporn\n",
       "4  braidedbutthair      beerporn\n",
       "5    ipathological      beerporn\n",
       "6     justinthreee         memes\n",
       "7          jake420  shittyadvice\n",
       "8          jake420         memes\n",
       "9          jake420   findareddit"
      ]
     },
     "execution_count": 24,
     "metadata": {},
     "output_type": "execute_result"
    }
   ],
   "source": [
    "import sqlite3\n",
    "conn = sqlite3.connect('../data/reddit.db')\n",
    "\n",
    "print(pd.io.sql.read_sql('select count(*) from redditors;',conn))\n",
    "\n",
    "pd.io.sql.read_sql('select redditor, sub from redditors limit 10;',conn)"
   ]
  },
  {
   "cell_type": "markdown",
   "metadata": {
    "slideshow": {
     "slide_type": "notes"
    }
   },
   "source": [
    "We have 1.8 million rows on the redditors table, each one is a comment of a redditor to a subreddit."
   ]
  },
  {
   "cell_type": "code",
   "execution_count": 25,
   "metadata": {
    "collapsed": false,
    "slideshow": {
     "slide_type": "slide"
    }
   },
   "outputs": [],
   "source": [
    "#https://github.com/manugarri/Reddit-Recommendation-Engine/blob/master/seed/similarity.py\n",
    "\n",
    "#In production, be always mindful of Bobby Tables\n",
    "def compute_sim(sub1, sub2):\n",
    "    users_union = conn.execute('''SELECT COUNT(DISTINCT(redditor)) from redditors\n",
    "                                    WHERE sub =\"{0}\" OR sub =\"{1}\";'''.format(sub1, sub2)).fetchone()\n",
    "    users_intersect = conn.execute('''SELECT COUNT(DISTINCT(redditor)) from redditors\n",
    "                                   WHERE sub =\"{0}\" and redditor in (\n",
    "                                   SELECT DISTINCT(redditor) FROM redditors WHERE sub=\"{1}\")'''.format(sub1, sub2)).fetchone()\n",
    "    users_intersect = int(users_intersect[0])\n",
    "    users_union = int(users_union[0])\n",
    "    if users_intersect:\n",
    "        return users_intersect * 1.0 / users_union\n",
    "    else:\n",
    "        return 0.0"
   ]
  },
  {
   "cell_type": "markdown",
   "metadata": {
    "slideshow": {
     "slide_type": "notes"
    }
   },
   "source": [
    "So here we see how we are going to measure the similarity between subs.\n",
    "We will use the Jaccard similarity index that I explained before.\n",
    "\n",
    "So given a sample of reddit comments, we can estimate how similar two subreddits are by counting how many of the redditors that wrote messages on BOTH subreddits (intersection) divided by the number of redditors that wrote on either one of them,\n",
    "\n",
    "This step takes quite some time to run "
   ]
  },
  {
   "cell_type": "code",
   "execution_count": 26,
   "metadata": {
    "collapsed": false,
    "slideshow": {
     "slide_type": "slide"
    }
   },
   "outputs": [
    {
     "data": {
      "text/plain": [
       "0.10175922731976543"
      ]
     },
     "execution_count": 26,
     "metadata": {},
     "output_type": "execute_result"
    }
   ],
   "source": [
    "compute_sim('aviation','flying')"
   ]
  },
  {
   "cell_type": "code",
   "execution_count": 27,
   "metadata": {
    "collapsed": false,
    "slideshow": {
     "slide_type": "-"
    }
   },
   "outputs": [
    {
     "name": "stdout",
     "output_type": "stream",
     "text": [
      "30ROCK 3DS 0.00051440329218107\n",
      "30ROCK 3Dprinting 0.0006369426751592356\n",
      "30ROCK 3amjokes 0.0006451612903225806\n",
      "30ROCK 49ers 0.000643915003219575\n",
      "3DS 3Dprinting 0.0013764624913971094\n",
      "3DS 3amjokes 0.0010391409767925182\n",
      "3DS 49ers 0.0017313019390581717\n",
      "3Dprinting 3amjokes 0.001193792280143255\n",
      "3Dprinting 49ers 0.0007945967421533572\n",
      "3amjokes 49ers 0.00040032025620496394\n"
     ]
    }
   ],
   "source": [
    "import json\n",
    "from itertools import combinations\n",
    "\n",
    "with open('../data/subs.json' ) as f:\n",
    "    subreddits = json.load(f)[:5]\n",
    "    \n",
    "for sim1, sim2 in combinations(subreddits, 2):\n",
    "    if sim1!=sim2:\n",
    "        print(sim1,sim2,compute_sim(sim1, sim2))"
   ]
  },
  {
   "cell_type": "code",
   "execution_count": 28,
   "metadata": {
    "collapsed": false,
    "slideshow": {
     "slide_type": "slide"
    }
   },
   "outputs": [
    {
     "data": {
      "text/html": [
       "<div>\n",
       "<table border=\"1\" class=\"dataframe\">\n",
       "  <thead>\n",
       "    <tr style=\"text-align: right;\">\n",
       "      <th></th>\n",
       "      <th>sub1</th>\n",
       "      <th>sub2</th>\n",
       "      <th>similarity</th>\n",
       "    </tr>\n",
       "  </thead>\n",
       "  <tbody>\n",
       "    <tr>\n",
       "      <th>0</th>\n",
       "      <td>iOSthemes</td>\n",
       "      <td>jailbreak</td>\n",
       "      <td>0.142021</td>\n",
       "    </tr>\n",
       "    <tr>\n",
       "      <th>1</th>\n",
       "      <td>asktransgender</td>\n",
       "      <td>transgender</td>\n",
       "      <td>0.112782</td>\n",
       "    </tr>\n",
       "    <tr>\n",
       "      <th>2</th>\n",
       "      <td>aviation</td>\n",
       "      <td>flying</td>\n",
       "      <td>0.101759</td>\n",
       "    </tr>\n",
       "    <tr>\n",
       "      <th>3</th>\n",
       "      <td>ukpolitics</td>\n",
       "      <td>unitedkingdom</td>\n",
       "      <td>0.101731</td>\n",
       "    </tr>\n",
       "    <tr>\n",
       "      <th>4</th>\n",
       "      <td>Liberal</td>\n",
       "      <td>progressive</td>\n",
       "      <td>0.099843</td>\n",
       "    </tr>\n",
       "    <tr>\n",
       "      <th>5</th>\n",
       "      <td>keto</td>\n",
       "      <td>ketorecipes</td>\n",
       "      <td>0.097407</td>\n",
       "    </tr>\n",
       "    <tr>\n",
       "      <th>6</th>\n",
       "      <td>Pokemongiveaway</td>\n",
       "      <td>pokemontrades</td>\n",
       "      <td>0.089431</td>\n",
       "    </tr>\n",
       "    <tr>\n",
       "      <th>7</th>\n",
       "      <td>ImaginaryCharacters</td>\n",
       "      <td>ImaginaryMonsters</td>\n",
       "      <td>0.088480</td>\n",
       "    </tr>\n",
       "    <tr>\n",
       "      <th>8</th>\n",
       "      <td>frugalmalefashion</td>\n",
       "      <td>malefashionadvice</td>\n",
       "      <td>0.084672</td>\n",
       "    </tr>\n",
       "    <tr>\n",
       "      <th>9</th>\n",
       "      <td>GiftofGames</td>\n",
       "      <td>RandomActsOfGaming</td>\n",
       "      <td>0.081259</td>\n",
       "    </tr>\n",
       "    <tr>\n",
       "      <th>10</th>\n",
       "      <td>Entrepreneur</td>\n",
       "      <td>startups</td>\n",
       "      <td>0.080465</td>\n",
       "    </tr>\n",
       "    <tr>\n",
       "      <th>11</th>\n",
       "      <td>CrusaderKings</td>\n",
       "      <td>paradoxplaza</td>\n",
       "      <td>0.080354</td>\n",
       "    </tr>\n",
       "    <tr>\n",
       "      <th>12</th>\n",
       "      <td>hiphopheads</td>\n",
       "      <td>HipHopImages</td>\n",
       "      <td>0.078541</td>\n",
       "    </tr>\n",
       "    <tr>\n",
       "      <th>13</th>\n",
       "      <td>medicalschool</td>\n",
       "      <td>medicine</td>\n",
       "      <td>0.076310</td>\n",
       "    </tr>\n",
       "    <tr>\n",
       "      <th>14</th>\n",
       "      <td>keto</td>\n",
       "      <td>xxketo</td>\n",
       "      <td>0.074339</td>\n",
       "    </tr>\n",
       "  </tbody>\n",
       "</table>\n",
       "</div>"
      ],
      "text/plain": [
       "                   sub1                sub2  similarity\n",
       "0             iOSthemes           jailbreak    0.142021\n",
       "1        asktransgender         transgender    0.112782\n",
       "2              aviation              flying    0.101759\n",
       "3            ukpolitics       unitedkingdom    0.101731\n",
       "4               Liberal         progressive    0.099843\n",
       "5                  keto         ketorecipes    0.097407\n",
       "6       Pokemongiveaway       pokemontrades    0.089431\n",
       "7   ImaginaryCharacters   ImaginaryMonsters    0.088480\n",
       "8     frugalmalefashion   malefashionadvice    0.084672\n",
       "9           GiftofGames  RandomActsOfGaming    0.081259\n",
       "10         Entrepreneur            startups    0.080465\n",
       "11        CrusaderKings        paradoxplaza    0.080354\n",
       "12          hiphopheads        HipHopImages    0.078541\n",
       "13        medicalschool            medicine    0.076310\n",
       "14                 keto              xxketo    0.074339"
      ]
     },
     "execution_count": 28,
     "metadata": {},
     "output_type": "execute_result"
    }
   ],
   "source": [
    "pd.io.sql.read_sql('select sub1, sub2, similarity from similarity order by similarity desc limit 15;',conn)"
   ]
  },
  {
   "cell_type": "code",
   "execution_count": 29,
   "metadata": {
    "collapsed": false,
    "slideshow": {
     "slide_type": "slide"
    }
   },
   "outputs": [],
   "source": [
    "def get_redditor_subs(redditor):\n",
    "    records = conn.execute('''select sub from redditors where redditor = \"{}\"'''.format(redditor)).fetchall()\n",
    "    return [r[0] for r in records]\n",
    "\n",
    "def get_sub_recommendations(redditor, n_recommendations=20):\n",
    "    redditor_subs = get_redditor_subs(redditor)\n",
    "    print(redditor_subs)\n",
    "\n",
    "    query_1 = \"select sub1 as sub, sum(similarity) as similarity from similarity where sub2 in ({})\\\n",
    "                group by sub;\".format(', '.join([\"'\" + s + \"'\" for s in redditor_subs]))\n",
    "    all_sub_scores_1 = pd.io.sql.read_sql(query_1, conn)\n",
    "\n",
    "    query_2 = \"select sub2 as sub, sum(similarity) as similarity from similarity where sub1 in ({})\\\n",
    "                group by sub;\".format(', '.join([\"'\" + s + \"'\" for s in redditor_subs]))\n",
    "    all_sub_scores_2 = pd.io.sql.read_sql(query_2, conn)\n",
    "\n",
    "    sub_scores = pd.concat([all_sub_scores_1, all_sub_scores_2])\n",
    "    sub_scores = sub_scores.groupby('sub').sum().reset_index()\n",
    "    sub_scores.sort_values(by='similarity', ascending=False, inplace=True)\n",
    "    \n",
    "    sub_scores = sub_scores[-sub_scores['sub'].isin(redditor_subs)]\n",
    "    return sub_scores.head(n_recommendations)"
   ]
  },
  {
   "cell_type": "code",
   "execution_count": 30,
   "metadata": {
    "collapsed": false,
    "slideshow": {
     "slide_type": "slide"
    }
   },
   "outputs": [
    {
     "name": "stdout",
     "output_type": "stream",
     "text": [
      "['IAmA', 'atheism', 'askscience', 'conspiracy', 'scifi', 'photography', 'changemyview', 'worldpolitics', 'Entrepreneur', 'compsci', 'dogs', 'webdev', 'google', 'Military', 'Paranormal', 'ragecomics', 'AskSocialScience', 'NeutralPolitics', 'privacy', 'PoliticalDiscussion', 'software', 'conspiratard', 'islam', 'printSF', 'NorthKoreaNews', 'Ask_Politics', 'moderatepolitics', 'commandline', 'hackers']\n"
     ]
    },
    {
     "data": {
      "text/html": [
       "<div>\n",
       "<table border=\"1\" class=\"dataframe\">\n",
       "  <thead>\n",
       "    <tr style=\"text-align: right;\">\n",
       "      <th></th>\n",
       "      <th>sub</th>\n",
       "      <th>similarity</th>\n",
       "    </tr>\n",
       "  </thead>\n",
       "  <tbody>\n",
       "    <tr>\n",
       "      <th>699</th>\n",
       "      <td>environment</td>\n",
       "      <td>0.185935</td>\n",
       "    </tr>\n",
       "    <tr>\n",
       "      <th>567</th>\n",
       "      <td>business</td>\n",
       "      <td>0.170226</td>\n",
       "    </tr>\n",
       "    <tr>\n",
       "      <th>1062</th>\n",
       "      <td>politics</td>\n",
       "      <td>0.165885</td>\n",
       "    </tr>\n",
       "    <tr>\n",
       "      <th>341</th>\n",
       "      <td>Libertarian</td>\n",
       "      <td>0.155474</td>\n",
       "    </tr>\n",
       "    <tr>\n",
       "      <th>1113</th>\n",
       "      <td>restorethefourth</td>\n",
       "      <td>0.150343</td>\n",
       "    </tr>\n",
       "    <tr>\n",
       "      <th>1075</th>\n",
       "      <td>progressive</td>\n",
       "      <td>0.147675</td>\n",
       "    </tr>\n",
       "    <tr>\n",
       "      <th>206</th>\n",
       "      <td>Foodforthought</td>\n",
       "      <td>0.146236</td>\n",
       "    </tr>\n",
       "    <tr>\n",
       "      <th>340</th>\n",
       "      <td>Liberal</td>\n",
       "      <td>0.134288</td>\n",
       "    </tr>\n",
       "    <tr>\n",
       "      <th>1344</th>\n",
       "      <td>worldnews</td>\n",
       "      <td>0.133243</td>\n",
       "    </tr>\n",
       "    <tr>\n",
       "      <th>1184</th>\n",
       "      <td>space</td>\n",
       "      <td>0.132084</td>\n",
       "    </tr>\n",
       "    <tr>\n",
       "      <th>1199</th>\n",
       "      <td>startups</td>\n",
       "      <td>0.131689</td>\n",
       "    </tr>\n",
       "    <tr>\n",
       "      <th>1013</th>\n",
       "      <td>offbeat</td>\n",
       "      <td>0.131457</td>\n",
       "    </tr>\n",
       "    <tr>\n",
       "      <th>29</th>\n",
       "      <td>AskHistorians</td>\n",
       "      <td>0.131250</td>\n",
       "    </tr>\n",
       "    <tr>\n",
       "      <th>1020</th>\n",
       "      <td>opensource</td>\n",
       "      <td>0.128743</td>\n",
       "    </tr>\n",
       "    <tr>\n",
       "      <th>21</th>\n",
       "      <td>AnythingGoesNews</td>\n",
       "      <td>0.128490</td>\n",
       "    </tr>\n",
       "    <tr>\n",
       "      <th>1234</th>\n",
       "      <td>technology</td>\n",
       "      <td>0.128183</td>\n",
       "    </tr>\n",
       "    <tr>\n",
       "      <th>778</th>\n",
       "      <td>geek</td>\n",
       "      <td>0.127947</td>\n",
       "    </tr>\n",
       "    <tr>\n",
       "      <th>1010</th>\n",
       "      <td>occupywallstreet</td>\n",
       "      <td>0.127887</td>\n",
       "    </tr>\n",
       "    <tr>\n",
       "      <th>1176</th>\n",
       "      <td>socialism</td>\n",
       "      <td>0.126388</td>\n",
       "    </tr>\n",
       "    <tr>\n",
       "      <th>1003</th>\n",
       "      <td>nottheonion</td>\n",
       "      <td>0.118827</td>\n",
       "    </tr>\n",
       "  </tbody>\n",
       "</table>\n",
       "</div>"
      ],
      "text/plain": [
       "                   sub  similarity\n",
       "699        environment    0.185935\n",
       "567           business    0.170226\n",
       "1062          politics    0.165885\n",
       "341        Libertarian    0.155474\n",
       "1113  restorethefourth    0.150343\n",
       "1075       progressive    0.147675\n",
       "206     Foodforthought    0.146236\n",
       "340            Liberal    0.134288\n",
       "1344         worldnews    0.133243\n",
       "1184             space    0.132084\n",
       "1199          startups    0.131689\n",
       "1013           offbeat    0.131457\n",
       "29       AskHistorians    0.131250\n",
       "1020        opensource    0.128743\n",
       "21    AnythingGoesNews    0.128490\n",
       "1234        technology    0.128183\n",
       "778               geek    0.127947\n",
       "1010  occupywallstreet    0.127887\n",
       "1176         socialism    0.126388\n",
       "1003       nottheonion    0.118827"
      ]
     },
     "execution_count": 30,
     "metadata": {},
     "output_type": "execute_result"
    }
   ],
   "source": [
    "get_sub_recommendations('NoeticIntelligence')"
   ]
  },
  {
   "cell_type": "markdown",
   "metadata": {
    "slideshow": {
     "slide_type": "slide"
    }
   },
   "source": [
    "## Exercise: Item-Item Based Collaborative filtering in the MovieLens dataset\n",
    "\n",
    "On this example we are going to build a new version of our Movie Recommendation. This time though, we will use correlation between ratings that users give as features."
   ]
  },
  {
   "cell_type": "code",
   "execution_count": 31,
   "metadata": {
    "collapsed": false
   },
   "outputs": [
    {
     "data": {
      "text/html": [
       "<div>\n",
       "<table border=\"1\" class=\"dataframe\">\n",
       "  <thead>\n",
       "    <tr style=\"text-align: right;\">\n",
       "      <th></th>\n",
       "      <th>user_id</th>\n",
       "      <th>movie_title</th>\n",
       "      <th>movie_id</th>\n",
       "      <th>rating</th>\n",
       "      <th>movie_genre</th>\n",
       "    </tr>\n",
       "  </thead>\n",
       "  <tbody>\n",
       "    <tr>\n",
       "      <th>0</th>\n",
       "      <td>1</td>\n",
       "      <td>One Flew Over the Cuckoo's Nest (1975)</td>\n",
       "      <td>1193</td>\n",
       "      <td>5</td>\n",
       "      <td>Drama</td>\n",
       "    </tr>\n",
       "    <tr>\n",
       "      <th>1</th>\n",
       "      <td>2</td>\n",
       "      <td>One Flew Over the Cuckoo's Nest (1975)</td>\n",
       "      <td>1193</td>\n",
       "      <td>5</td>\n",
       "      <td>Drama</td>\n",
       "    </tr>\n",
       "    <tr>\n",
       "      <th>2</th>\n",
       "      <td>12</td>\n",
       "      <td>One Flew Over the Cuckoo's Nest (1975)</td>\n",
       "      <td>1193</td>\n",
       "      <td>4</td>\n",
       "      <td>Drama</td>\n",
       "    </tr>\n",
       "    <tr>\n",
       "      <th>3</th>\n",
       "      <td>15</td>\n",
       "      <td>One Flew Over the Cuckoo's Nest (1975)</td>\n",
       "      <td>1193</td>\n",
       "      <td>4</td>\n",
       "      <td>Drama</td>\n",
       "    </tr>\n",
       "    <tr>\n",
       "      <th>4</th>\n",
       "      <td>17</td>\n",
       "      <td>One Flew Over the Cuckoo's Nest (1975)</td>\n",
       "      <td>1193</td>\n",
       "      <td>5</td>\n",
       "      <td>Drama</td>\n",
       "    </tr>\n",
       "  </tbody>\n",
       "</table>\n",
       "</div>"
      ],
      "text/plain": [
       "   user_id                             movie_title  movie_id  rating  \\\n",
       "0        1  One Flew Over the Cuckoo's Nest (1975)      1193       5   \n",
       "1        2  One Flew Over the Cuckoo's Nest (1975)      1193       5   \n",
       "2       12  One Flew Over the Cuckoo's Nest (1975)      1193       4   \n",
       "3       15  One Flew Over the Cuckoo's Nest (1975)      1193       4   \n",
       "4       17  One Flew Over the Cuckoo's Nest (1975)      1193       5   \n",
       "\n",
       "  movie_genre  \n",
       "0       Drama  \n",
       "1       Drama  \n",
       "2       Drama  \n",
       "3       Drama  \n",
       "4       Drama  "
      ]
     },
     "execution_count": 31,
     "metadata": {},
     "output_type": "execute_result"
    }
   ],
   "source": [
    "ratings_df = pd.read_table('../data/ratings.dat', header=None, sep='::', \n",
    "                          names=['user_id', 'movie_id', 'rating', 'timestamp'], engine='python')\n",
    "\n",
    "#we dont care about the time the rating was given\n",
    "del ratings_df['timestamp']\n",
    "\n",
    "#replace movie_id with movie_title for legibility\n",
    "ratings_df = pd.merge(ratings_df, movies_df, on='movie_id')[['user_id', 'movie_title', 'movie_id','rating', 'movie_genre']]\n",
    "\n",
    "ratings_df.head()  "
   ]
  },
  {
   "cell_type": "code",
   "execution_count": 32,
   "metadata": {
    "collapsed": false,
    "slideshow": {
     "slide_type": "slide"
    }
   },
   "outputs": [
    {
     "data": {
      "text/html": [
       "<div>\n",
       "<table border=\"1\" class=\"dataframe\">\n",
       "  <thead>\n",
       "    <tr style=\"text-align: right;\">\n",
       "      <th>movie_title</th>\n",
       "      <th>$1,000,000 Duck (1971)</th>\n",
       "      <th>'Night Mother (1986)</th>\n",
       "      <th>'Til There Was You (1997)</th>\n",
       "      <th>'burbs, The (1989)</th>\n",
       "      <th>...And Justice for All (1979)</th>\n",
       "      <th>1-900 (1994)</th>\n",
       "      <th>10 Things I Hate About You (1999)</th>\n",
       "      <th>101 Dalmatians (1961)</th>\n",
       "      <th>101 Dalmatians (1996)</th>\n",
       "      <th>12 Angry Men (1957)</th>\n",
       "      <th>...</th>\n",
       "      <th>Young Poisoner's Handbook, The (1995)</th>\n",
       "      <th>Young Sherlock Holmes (1985)</th>\n",
       "      <th>Young and Innocent (1937)</th>\n",
       "      <th>Your Friends and Neighbors (1998)</th>\n",
       "      <th>Zachariah (1971)</th>\n",
       "      <th>Zed &amp; Two Noughts, A (1985)</th>\n",
       "      <th>Zero Effect (1998)</th>\n",
       "      <th>Zero Kelvin (Kj�rlighetens kj�tere) (1995)</th>\n",
       "      <th>Zeus and Roxanne (1997)</th>\n",
       "      <th>eXistenZ (1999)</th>\n",
       "    </tr>\n",
       "    <tr>\n",
       "      <th>user_id</th>\n",
       "      <th></th>\n",
       "      <th></th>\n",
       "      <th></th>\n",
       "      <th></th>\n",
       "      <th></th>\n",
       "      <th></th>\n",
       "      <th></th>\n",
       "      <th></th>\n",
       "      <th></th>\n",
       "      <th></th>\n",
       "      <th></th>\n",
       "      <th></th>\n",
       "      <th></th>\n",
       "      <th></th>\n",
       "      <th></th>\n",
       "      <th></th>\n",
       "      <th></th>\n",
       "      <th></th>\n",
       "      <th></th>\n",
       "      <th></th>\n",
       "      <th></th>\n",
       "    </tr>\n",
       "  </thead>\n",
       "  <tbody>\n",
       "    <tr>\n",
       "      <th>1</th>\n",
       "      <td>-0.215674</td>\n",
       "      <td>0.128728</td>\n",
       "      <td>-0.550393</td>\n",
       "      <td>-0.331810</td>\n",
       "      <td>0.470867</td>\n",
       "      <td>-0.742701</td>\n",
       "      <td>0.180156</td>\n",
       "      <td>0.353760</td>\n",
       "      <td>-0.195997</td>\n",
       "      <td>1.052754</td>\n",
       "      <td>...</td>\n",
       "      <td>0.390211</td>\n",
       "      <td>0.147801</td>\n",
       "      <td>0.057299</td>\n",
       "      <td>0.133446</td>\n",
       "      <td>0.257299</td>\n",
       "      <td>0.171092</td>\n",
       "      <td>0.508130</td>\n",
       "      <td>0.257299</td>\n",
       "      <td>-0.720962</td>\n",
       "      <td>0.013397</td>\n",
       "    </tr>\n",
       "    <tr>\n",
       "      <th>2</th>\n",
       "      <td>-0.210064</td>\n",
       "      <td>0.134337</td>\n",
       "      <td>-0.544784</td>\n",
       "      <td>-0.326200</td>\n",
       "      <td>0.476476</td>\n",
       "      <td>-0.737091</td>\n",
       "      <td>0.185766</td>\n",
       "      <td>0.359369</td>\n",
       "      <td>-0.190388</td>\n",
       "      <td>1.058363</td>\n",
       "      <td>...</td>\n",
       "      <td>0.395820</td>\n",
       "      <td>0.153410</td>\n",
       "      <td>0.062909</td>\n",
       "      <td>0.139055</td>\n",
       "      <td>0.262909</td>\n",
       "      <td>0.176702</td>\n",
       "      <td>0.513739</td>\n",
       "      <td>0.262909</td>\n",
       "      <td>-0.715352</td>\n",
       "      <td>0.019006</td>\n",
       "    </tr>\n",
       "    <tr>\n",
       "      <th>3</th>\n",
       "      <td>-0.213476</td>\n",
       "      <td>0.130926</td>\n",
       "      <td>-0.548195</td>\n",
       "      <td>-0.329612</td>\n",
       "      <td>0.473065</td>\n",
       "      <td>-0.740503</td>\n",
       "      <td>0.182354</td>\n",
       "      <td>0.355957</td>\n",
       "      <td>-0.193799</td>\n",
       "      <td>1.054952</td>\n",
       "      <td>...</td>\n",
       "      <td>0.392409</td>\n",
       "      <td>0.149999</td>\n",
       "      <td>0.059497</td>\n",
       "      <td>0.135644</td>\n",
       "      <td>0.259497</td>\n",
       "      <td>0.173290</td>\n",
       "      <td>0.510328</td>\n",
       "      <td>0.259497</td>\n",
       "      <td>-0.718764</td>\n",
       "      <td>0.015595</td>\n",
       "    </tr>\n",
       "    <tr>\n",
       "      <th>4</th>\n",
       "      <td>-0.212675</td>\n",
       "      <td>0.131726</td>\n",
       "      <td>-0.547394</td>\n",
       "      <td>-0.328811</td>\n",
       "      <td>0.473866</td>\n",
       "      <td>-0.739702</td>\n",
       "      <td>0.183155</td>\n",
       "      <td>0.356758</td>\n",
       "      <td>-0.192999</td>\n",
       "      <td>1.055752</td>\n",
       "      <td>...</td>\n",
       "      <td>0.393209</td>\n",
       "      <td>0.150799</td>\n",
       "      <td>0.060298</td>\n",
       "      <td>0.136445</td>\n",
       "      <td>0.260298</td>\n",
       "      <td>0.174091</td>\n",
       "      <td>0.511128</td>\n",
       "      <td>0.260298</td>\n",
       "      <td>-0.717963</td>\n",
       "      <td>0.016395</td>\n",
       "    </tr>\n",
       "    <tr>\n",
       "      <th>5</th>\n",
       "      <td>-0.182296</td>\n",
       "      <td>0.162105</td>\n",
       "      <td>-0.517016</td>\n",
       "      <td>-0.298432</td>\n",
       "      <td>0.504244</td>\n",
       "      <td>-0.709323</td>\n",
       "      <td>0.213534</td>\n",
       "      <td>0.387137</td>\n",
       "      <td>-0.162620</td>\n",
       "      <td>1.086131</td>\n",
       "      <td>...</td>\n",
       "      <td>0.423588</td>\n",
       "      <td>0.181178</td>\n",
       "      <td>0.090677</td>\n",
       "      <td>0.166823</td>\n",
       "      <td>0.290677</td>\n",
       "      <td>0.204470</td>\n",
       "      <td>0.541507</td>\n",
       "      <td>0.290677</td>\n",
       "      <td>-0.687584</td>\n",
       "      <td>0.046774</td>\n",
       "    </tr>\n",
       "  </tbody>\n",
       "</table>\n",
       "<p>5 rows × 3706 columns</p>\n",
       "</div>"
      ],
      "text/plain": [
       "movie_title  $1,000,000 Duck (1971)  'Night Mother (1986)  \\\n",
       "user_id                                                     \n",
       "1                         -0.215674              0.128728   \n",
       "2                         -0.210064              0.134337   \n",
       "3                         -0.213476              0.130926   \n",
       "4                         -0.212675              0.131726   \n",
       "5                         -0.182296              0.162105   \n",
       "\n",
       "movie_title  'Til There Was You (1997)  'burbs, The (1989)  \\\n",
       "user_id                                                      \n",
       "1                            -0.550393           -0.331810   \n",
       "2                            -0.544784           -0.326200   \n",
       "3                            -0.548195           -0.329612   \n",
       "4                            -0.547394           -0.328811   \n",
       "5                            -0.517016           -0.298432   \n",
       "\n",
       "movie_title  ...And Justice for All (1979)  1-900 (1994)  \\\n",
       "user_id                                                    \n",
       "1                                 0.470867     -0.742701   \n",
       "2                                 0.476476     -0.737091   \n",
       "3                                 0.473065     -0.740503   \n",
       "4                                 0.473866     -0.739702   \n",
       "5                                 0.504244     -0.709323   \n",
       "\n",
       "movie_title  10 Things I Hate About You (1999)  101 Dalmatians (1961)  \\\n",
       "user_id                                                                 \n",
       "1                                     0.180156               0.353760   \n",
       "2                                     0.185766               0.359369   \n",
       "3                                     0.182354               0.355957   \n",
       "4                                     0.183155               0.356758   \n",
       "5                                     0.213534               0.387137   \n",
       "\n",
       "movie_title  101 Dalmatians (1996)  12 Angry Men (1957)       ...         \\\n",
       "user_id                                                       ...          \n",
       "1                        -0.195997             1.052754       ...          \n",
       "2                        -0.190388             1.058363       ...          \n",
       "3                        -0.193799             1.054952       ...          \n",
       "4                        -0.192999             1.055752       ...          \n",
       "5                        -0.162620             1.086131       ...          \n",
       "\n",
       "movie_title  Young Poisoner's Handbook, The (1995)  \\\n",
       "user_id                                              \n",
       "1                                         0.390211   \n",
       "2                                         0.395820   \n",
       "3                                         0.392409   \n",
       "4                                         0.393209   \n",
       "5                                         0.423588   \n",
       "\n",
       "movie_title  Young Sherlock Holmes (1985)  Young and Innocent (1937)  \\\n",
       "user_id                                                                \n",
       "1                                0.147801                   0.057299   \n",
       "2                                0.153410                   0.062909   \n",
       "3                                0.149999                   0.059497   \n",
       "4                                0.150799                   0.060298   \n",
       "5                                0.181178                   0.090677   \n",
       "\n",
       "movie_title  Your Friends and Neighbors (1998)  Zachariah (1971)  \\\n",
       "user_id                                                            \n",
       "1                                     0.133446          0.257299   \n",
       "2                                     0.139055          0.262909   \n",
       "3                                     0.135644          0.259497   \n",
       "4                                     0.136445          0.260298   \n",
       "5                                     0.166823          0.290677   \n",
       "\n",
       "movie_title  Zed & Two Noughts, A (1985)  Zero Effect (1998)  \\\n",
       "user_id                                                        \n",
       "1                               0.171092            0.508130   \n",
       "2                               0.176702            0.513739   \n",
       "3                               0.173290            0.510328   \n",
       "4                               0.174091            0.511128   \n",
       "5                               0.204470            0.541507   \n",
       "\n",
       "movie_title  Zero Kelvin (Kj�rlighetens kj�tere) (1995)  \\\n",
       "user_id                                                   \n",
       "1                                              0.257299   \n",
       "2                                              0.262909   \n",
       "3                                              0.259497   \n",
       "4                                              0.260298   \n",
       "5                                              0.290677   \n",
       "\n",
       "movie_title  Zeus and Roxanne (1997)  eXistenZ (1999)  \n",
       "user_id                                                \n",
       "1                          -0.720962         0.013397  \n",
       "2                          -0.715352         0.019006  \n",
       "3                          -0.718764         0.015595  \n",
       "4                          -0.717963         0.016395  \n",
       "5                          -0.687584         0.046774  \n",
       "\n",
       "[5 rows x 3706 columns]"
      ]
     },
     "execution_count": 32,
     "metadata": {},
     "output_type": "execute_result"
    }
   ],
   "source": [
    "ratings_mtx_df = ratings_df.pivot_table(values='rating', index='user_id', columns='movie_title')  \n",
    "\n",
    "ratings_mtx_df = ratings_mtx_df.apply(lambda x: x.fillna(x.mean()),axis=0)\n",
    "ratings_mtx_df = ratings_mtx_df.apply(lambda x: x - x.mean(),axis=1)\n",
    "\n",
    "movie_index = ratings_mtx_df.columns\n",
    "\n",
    "ratings_mtx_df.head()  "
   ]
  },
  {
   "cell_type": "markdown",
   "metadata": {
    "slideshow": {
     "slide_type": "notes"
    }
   },
   "source": [
    "Since the user rating matrix is very sparse, we normalize it by\n",
    "\n",
    "1. Filling non rated user-movie interactions with the users' average rating,\n",
    "2. Deduct the movie bias by removing the movie's global average rating from each rating"
   ]
  },
  {
   "cell_type": "markdown",
   "metadata": {
    "slideshow": {
     "slide_type": "slide"
    }
   },
   "source": [
    "Now that we have a normalized user-ratings matrix, we can compute the relationships between movies by calculating the correlation between movies and ratings.\n",
    "\n",
    "We will use **Pearson product-moment correlation coefficient (PPMC)** to compute the similarities between movies based off the relation of the ratings users give to them.\n",
    "\n",
    "![pmcc](./Slides_files/pmcc.png)"
   ]
  },
  {
   "cell_type": "code",
   "execution_count": 33,
   "metadata": {
    "collapsed": false,
    "slideshow": {
     "slide_type": "slide"
    }
   },
   "outputs": [
    {
     "data": {
      "text/plain": [
       "(3706, 3706)"
      ]
     },
     "execution_count": 33,
     "metadata": {},
     "output_type": "execute_result"
    }
   ],
   "source": [
    "corr_matrix = np.corrcoef(ratings_mtx_df.T)  \n",
    "corr_matrix.shape"
   ]
  },
  {
   "cell_type": "markdown",
   "metadata": {},
   "source": [
    "To compute the correlation we transpose the matrix so the movies are the rows. The result of calling the corrcoef method is a matrix with the movies as columns and rows and on each intersection the PMCC between those movies."
   ]
  },
  {
   "cell_type": "code",
   "execution_count": 34,
   "metadata": {
    "collapsed": true,
    "slideshow": {
     "slide_type": "slide"
    }
   },
   "outputs": [],
   "source": [
    "def get_movie_correlations(movie_title):  \n",
    "    '''Returns correlation vector for a movie'''\n",
    "    movie_idx = list(movie_index).index(movie_title)\n",
    "    return corr_matrix[movie_idx]\n",
    "\n",
    "def get_similar_movies(movie_title, threshold=0.2):\n",
    "    movie_correlations_array =  get_movie_correlations(movie_title)\n",
    "    return movie_index[movie_correlations_array>threshold]"
   ]
  },
  {
   "cell_type": "code",
   "execution_count": 35,
   "metadata": {
    "collapsed": false
   },
   "outputs": [
    {
     "data": {
      "text/plain": [
       "Index(['Raiders of the Lost Ark (1981)',\n",
       "       'Star Wars: Episode IV - A New Hope (1977)',\n",
       "       'Star Wars: Episode V - The Empire Strikes Back (1980)',\n",
       "       'Star Wars: Episode VI - Return of the Jedi (1983)'],\n",
       "      dtype='object', name='movie_title')"
      ]
     },
     "execution_count": 35,
     "metadata": {},
     "output_type": "execute_result"
    }
   ],
   "source": [
    "get_similar_movies('Star Wars: Episode IV - A New Hope (1977)')"
   ]
  },
  {
   "cell_type": "code",
   "execution_count": 36,
   "metadata": {
    "collapsed": false
   },
   "outputs": [
    {
     "data": {
      "text/plain": [
       "Index(['Die Hard (1988)', 'Die Hard 2 (1990)',\n",
       "       'Die Hard: With a Vengeance (1995)', 'Lethal Weapon (1987)',\n",
       "       'Lethal Weapon 2 (1989)', 'Terminator 2: Judgment Day (1991)',\n",
       "       'Terminator, The (1984)'],\n",
       "      dtype='object', name='movie_title')"
      ]
     },
     "execution_count": 36,
     "metadata": {},
     "output_type": "execute_result"
    }
   ],
   "source": [
    "get_similar_movies('Die Hard (1988)')"
   ]
  },
  {
   "cell_type": "code",
   "execution_count": 37,
   "metadata": {
    "collapsed": true,
    "slideshow": {
     "slide_type": "slide"
    }
   },
   "outputs": [],
   "source": [
    "def get_movie_recommendations(user_movies):  \n",
    "    '''given a set of movies, it returns all the movies sorted by their correlation with the user'''\n",
    "    movie_similarities = np.zeros(corr_matrix.shape[0])\n",
    "    for movie_id in user_movies:\n",
    "        movie_similarities = movie_similarities + get_movie_correlations(movie_id)\n",
    "    similarities_df = pd.DataFrame({\n",
    "        'movie_title': movie_index,\n",
    "        'sum_similarity': movie_similarities\n",
    "        })\n",
    "    similarities_df = similarities_df[~(similarities_df.movie_title.isin(user_movies))]\n",
    "    similarities_df = similarities_df.sort_values(by=['sum_similarity'], ascending=False)\n",
    "    return similarities_df"
   ]
  },
  {
   "cell_type": "markdown",
   "metadata": {
    "slideshow": {
     "slide_type": "notes"
    }
   },
   "source": [
    "How do we get the recommendations for a user, \n",
    "\n",
    "we get the list of movies the user has reviewed, we create an empty array of lenght the number of movies\n",
    "Then for each movie of the user's movies, we sum the correlations of that movie to the array we just created. Then we sort the resulting similarities by descending order. "
   ]
  },
  {
   "cell_type": "code",
   "execution_count": 38,
   "metadata": {
    "collapsed": false,
    "slideshow": {
     "slide_type": "slide"
    }
   },
   "outputs": [
    {
     "data": {
      "text/plain": [
       "[\"Bug's Life, A (1998)\",\n",
       " 'Bambi (1942)',\n",
       " 'Antz (1998)',\n",
       " 'Aladdin (1992)',\n",
       " 'Toy Story (1995)',\n",
       " 'Star Wars: Episode VI - Return of the Jedi (1983)',\n",
       " 'Who Framed Roger Rabbit? (1988)',\n",
       " 'South Park: Bigger, Longer and Uncut (1999)',\n",
       " 'Akira (1988)',\n",
       " 'Pinocchio (1940)',\n",
       " 'Mad Max Beyond Thunderdome (1985)',\n",
       " 'Titan A.E. (2000)',\n",
       " \"Devil's Advocate, The (1997)\",\n",
       " 'Prince of Egypt, The (1998)',\n",
       " 'Wild Wild West (1999)',\n",
       " 'Iron Giant, The (1999)',\n",
       " 'Brady Bunch Movie, The (1995)',\n",
       " 'Princess Mononoke, The (Mononoke Hime) (1997)',\n",
       " 'Little Nemo: Adventures in Slumberland (1992)',\n",
       " 'Messenger: The Story of Joan of Arc, The (1999)',\n",
       " 'Stop! Or My Mom Will Shoot (1992)',\n",
       " 'House Party 2 (1991)']"
      ]
     },
     "execution_count": 38,
     "metadata": {},
     "output_type": "execute_result"
    }
   ],
   "source": [
    "sample_user = 21\n",
    "sample_user_movies = ratings_df[ratings_df.user_id==sample_user].movie_title.tolist() \n",
    "sample_user_movies"
   ]
  },
  {
   "cell_type": "code",
   "execution_count": 39,
   "metadata": {
    "collapsed": false,
    "slideshow": {
     "slide_type": "slide"
    }
   },
   "outputs": [
    {
     "data": {
      "text/plain": [
       "3055    Snow White and the Seven Dwarfs (1937)\n",
       "1865                 Lady and the Tramp (1955)\n",
       "679                          Cinderella (1950)\n",
       "1002                              Dumbo (1941)\n",
       "1939                     Lion King, The (1994)\n",
       "324                Beauty and the Beast (1991)\n",
       "7                        101 Dalmatians (1961)\n",
       "2770           Rescuers Down Under, The (1990)\n",
       "1948                Little Mermaid, The (1989)\n",
       "3412                        Toy Story 2 (1999)\n",
       "2808                         Robin Hood (1973)\n",
       "3026                    Sleeping Beauty (1959)\n",
       "1739          James and the Giant Peach (1996)\n",
       "3275                             Tarzan (1999)\n",
       "97                  Alice in Wonderland (1951)\n",
       "1781                   Jungle Book, The (1967)\n",
       "1611       Hunchback of Notre Dame, The (1996)\n",
       "2771                      Rescuers, The (1977)\n",
       "2432                   Oliver & Company (1988)\n",
       "1111                           Fantasia (1940)\n",
       "Name: movie_title, dtype: object"
      ]
     },
     "execution_count": 39,
     "metadata": {},
     "output_type": "execute_result"
    }
   ],
   "source": [
    "recommendations = get_movie_recommendations(sample_user_movies)\n",
    "\n",
    "recommendations.movie_title.head(20)  "
   ]
  },
  {
   "cell_type": "markdown",
   "metadata": {
    "slideshow": {
     "slide_type": "slide"
    }
   },
   "source": [
    "## Hybrid Systems\n",
    "\n",
    "Hybrid Systems are a way to limit the problems that Content Filtering and Collaborative Filtering.\n",
    "\n",
    "- First, we use Content Filtering (so we get around the cold start problem)\n",
    "- Once we have enough user data, we can use Collaborative Filtering."
   ]
  },
  {
   "cell_type": "markdown",
   "metadata": {
    "slideshow": {
     "slide_type": "slide"
    }
   },
   "source": [
    "## Example of Hybrid Systems: Netflix\n",
    "\n",
    "![netflix](./Slides_files/netflix1.png)"
   ]
  },
  {
   "cell_type": "markdown",
   "metadata": {
    "slideshow": {
     "slide_type": "notes"
    }
   },
   "source": [
    "Netflix is a good example of the use of hybrid recommender systems. They make recommendations by comparing the watching and searching habits of similar users (i.e. collaborative filtering) as well as by offering movies that share characteristics with films that a user has rated highly (content-based filtering)."
   ]
  },
  {
   "cell_type": "markdown",
   "metadata": {},
   "source": [
    "### Libraries in python\n",
    "\n",
    "* [Crab](http://muricoca.github.io/crab/)\n",
    "* [PyFM](https://github.com/coreylynch/pyFM) \n",
    "* [python-recsys](https://github.com/ocelma/python-recsys)\n",
    "* [LightFM](https://github.com/lyst/lightfm)\n",
    "\n",
    "\n",
    "### Big Data Recommendation Systems Frameworks\n",
    "\n",
    "\n",
    "- [Apache Spark MLLib Recommendation module](http://spark.apache.org/docs/latest/mllib-collaborative-filtering.html)\n",
    "- [Apache Mahout](https://mahout.apache.org/)\n",
    "- [Oryx2](http://oryx.io/index.html)\n",
    "- [LensKit](lenskit.org/)\n",
    "- [MyMediaLite](http://www.mymedialite.net/)\n",
    "\n",
    "[Benchmark on AM, LK and MML](\n",
    "http://www.slideshare.net/alansaid/comparative-recommender-system-evaluation-benchmarking-recommendation-frameworks)\n",
    "\n",
    "\n",
    "### Its 2016, so TensorFlow\n",
    "\n",
    "- [SVD implementation in TensorFlow](https://github.com/songgc/TF-recomm)\n",
    "\n",
    "- [Google's Play App recommendation Wide and Deep Network Paper](https://arxiv.org/pdf/1606.07792v1.pdf) ([or a much more accesible tutorial](https://www.tensorflow.org/versions/r0.11/tutorials/wide_and_deep/index.html))\n",
    "\n",
    "- [Google's Paper on Deep Neural Networks on Youtube Recommendations](https://static.googleusercontent.com/media/research.google.com/en//pubs/archive/45530.pdf) (or a [simpler article on the subject](https://www.infoq.com/news/2016/09/How-YouTube-Recommendation-Works))"
   ]
  },
  {
   "cell_type": "markdown",
   "metadata": {
    "collapsed": true,
    "slideshow": {
     "slide_type": "slide"
    }
   },
   "source": [
    "![yaay](./Slides_files/yaay.png)"
   ]
  },
  {
   "cell_type": "markdown",
   "metadata": {
    "slideshow": {
     "slide_type": "notes"
    }
   },
   "source": [
    "Thanks for your time! . That is the best dog in the world, who happens to be my dog."
   ]
  },
  {
   "cell_type": "markdown",
   "metadata": {
    "slideshow": {
     "slide_type": "slide"
    }
   },
   "source": [
    "## Bonus Exercise!: Collaborative filtering by Singular Value Decomposition"
   ]
  },
  {
   "cell_type": "markdown",
   "metadata": {
    "slideshow": {
     "slide_type": "slide"
    }
   },
   "source": [
    "## What is Singular Value Decomposition (SVD)?\n",
    "![svd](./Slides_files/svd.png)"
   ]
  },
  {
   "cell_type": "markdown",
   "metadata": {
    "slideshow": {
     "slide_type": "notes"
    }
   },
   "source": [
    "SVD (Singular Value Decomposition) is a matrix factorization method, which basically means that is a method to decompose a matrix into a product of matrices.\n",
    "\n",
    "Given A, m×n real matrix with m>n, then A can be written using a so-called singular value decomposition of the form;\n",
    "\n",
    "$$A = U\\Sigma V^T$$\n",
    "\n",
    "With:\n",
    "\n",
    "- U being the left singular vectors \n",
    "- Σ being a diagonal matrix containing the eigenvalues (singular values) of the original matrix A\n",
    "- V^T being the right singular vectors"
   ]
  },
  {
   "cell_type": "markdown",
   "metadata": {
    "slideshow": {
     "slide_type": "slide"
    }
   },
   "source": [
    "Full SVD is a computationally intensive process. However, we can select the the k higher eigenvalues and get a truncated version of A. \n",
    "\n",
    "$$A_k \\approx U_k\\Sigma_k V^T_k$$\n",
    "\n",
    "That holds similar information about the structure of A, but now the matrix is much less sparse as the original."
   ]
  },
  {
   "cell_type": "code",
   "execution_count": 40,
   "metadata": {
    "collapsed": false,
    "slideshow": {
     "slide_type": "slide"
    }
   },
   "outputs": [
    {
     "data": {
      "text/html": [
       "<div>\n",
       "<table border=\"1\" class=\"dataframe\">\n",
       "  <thead>\n",
       "    <tr style=\"text-align: right;\">\n",
       "      <th></th>\n",
       "      <th>movie_id</th>\n",
       "      <th>movie_title</th>\n",
       "      <th>movie_genre</th>\n",
       "    </tr>\n",
       "  </thead>\n",
       "  <tbody>\n",
       "    <tr>\n",
       "      <th>0</th>\n",
       "      <td>1</td>\n",
       "      <td>Toy Story (1995)</td>\n",
       "      <td>Animation|Children's|Comedy</td>\n",
       "    </tr>\n",
       "    <tr>\n",
       "      <th>1</th>\n",
       "      <td>2</td>\n",
       "      <td>Jumanji (1995)</td>\n",
       "      <td>Adventure|Children's|Fantasy</td>\n",
       "    </tr>\n",
       "    <tr>\n",
       "      <th>2</th>\n",
       "      <td>3</td>\n",
       "      <td>Grumpier Old Men (1995)</td>\n",
       "      <td>Comedy|Romance</td>\n",
       "    </tr>\n",
       "    <tr>\n",
       "      <th>3</th>\n",
       "      <td>4</td>\n",
       "      <td>Waiting to Exhale (1995)</td>\n",
       "      <td>Comedy|Drama</td>\n",
       "    </tr>\n",
       "    <tr>\n",
       "      <th>4</th>\n",
       "      <td>5</td>\n",
       "      <td>Father of the Bride Part II (1995)</td>\n",
       "      <td>Comedy</td>\n",
       "    </tr>\n",
       "  </tbody>\n",
       "</table>\n",
       "</div>"
      ],
      "text/plain": [
       "   movie_id                         movie_title                   movie_genre\n",
       "0         1                    Toy Story (1995)   Animation|Children's|Comedy\n",
       "1         2                      Jumanji (1995)  Adventure|Children's|Fantasy\n",
       "2         3             Grumpier Old Men (1995)                Comedy|Romance\n",
       "3         4            Waiting to Exhale (1995)                  Comedy|Drama\n",
       "4         5  Father of the Bride Part II (1995)                        Comedy"
      ]
     },
     "execution_count": 40,
     "metadata": {},
     "output_type": "execute_result"
    }
   ],
   "source": [
    "movies_df = pd.read_table('../data/movies.dat',  header=None, sep='::', \n",
    "                          names=['movie_id', 'movie_title', 'movie_genre'], engine='python')\n",
    "movies_df.head()  "
   ]
  },
  {
   "cell_type": "code",
   "execution_count": 41,
   "metadata": {
    "collapsed": false,
    "slideshow": {
     "slide_type": "slide"
    }
   },
   "outputs": [
    {
     "data": {
      "text/html": [
       "<div>\n",
       "<table border=\"1\" class=\"dataframe\">\n",
       "  <thead>\n",
       "    <tr style=\"text-align: right;\">\n",
       "      <th></th>\n",
       "      <th>user_id</th>\n",
       "      <th>movie_id</th>\n",
       "      <th>rating</th>\n",
       "    </tr>\n",
       "  </thead>\n",
       "  <tbody>\n",
       "    <tr>\n",
       "      <th>0</th>\n",
       "      <td>1</td>\n",
       "      <td>1193</td>\n",
       "      <td>5</td>\n",
       "    </tr>\n",
       "    <tr>\n",
       "      <th>1</th>\n",
       "      <td>1</td>\n",
       "      <td>661</td>\n",
       "      <td>3</td>\n",
       "    </tr>\n",
       "    <tr>\n",
       "      <th>2</th>\n",
       "      <td>1</td>\n",
       "      <td>914</td>\n",
       "      <td>3</td>\n",
       "    </tr>\n",
       "    <tr>\n",
       "      <th>3</th>\n",
       "      <td>1</td>\n",
       "      <td>3408</td>\n",
       "      <td>4</td>\n",
       "    </tr>\n",
       "    <tr>\n",
       "      <th>4</th>\n",
       "      <td>1</td>\n",
       "      <td>2355</td>\n",
       "      <td>5</td>\n",
       "    </tr>\n",
       "  </tbody>\n",
       "</table>\n",
       "</div>"
      ],
      "text/plain": [
       "   user_id  movie_id  rating\n",
       "0        1      1193       5\n",
       "1        1       661       3\n",
       "2        1       914       3\n",
       "3        1      3408       4\n",
       "4        1      2355       5"
      ]
     },
     "execution_count": 41,
     "metadata": {},
     "output_type": "execute_result"
    }
   ],
   "source": [
    "ratings_df = pd.read_table('../data/ratings.dat', header=None, sep='::', \n",
    "                           names=['user_id', 'movie_id', 'rating', 'timestamp'], engine='python')\n",
    "del ratings_df['timestamp']\n",
    "ratings_df.head()  "
   ]
  },
  {
   "cell_type": "code",
   "execution_count": 42,
   "metadata": {
    "collapsed": false,
    "slideshow": {
     "slide_type": "-"
    }
   },
   "outputs": [],
   "source": [
    "users = sorted(ratings_df.user_id.unique())\n",
    "user_indices = {}\n",
    "\n",
    "for i in range(len(users)):\n",
    "    user_indices[users[i]] = i"
   ]
  },
  {
   "cell_type": "markdown",
   "metadata": {
    "slideshow": {
     "slide_type": "notes"
    }
   },
   "source": [
    "Here we load a dictionary for users and another for movies, with the keys being the ids and the values being the range from 0 to the number of users or movies"
   ]
  },
  {
   "cell_type": "code",
   "execution_count": 43,
   "metadata": {
    "collapsed": true,
    "slideshow": {
     "slide_type": "slide"
    }
   },
   "outputs": [],
   "source": [
    "ratings_mtx_df = ratings_df.pivot_table(values='rating', index='user_id', columns='movie_id')\n",
    "movie_index = ratings_mtx_df.columns"
   ]
  },
  {
   "cell_type": "code",
   "execution_count": 44,
   "metadata": {
    "collapsed": false
   },
   "outputs": [
    {
     "data": {
      "text/html": [
       "<div>\n",
       "<table border=\"1\" class=\"dataframe\">\n",
       "  <thead>\n",
       "    <tr style=\"text-align: right;\">\n",
       "      <th>movie_id</th>\n",
       "      <th>1</th>\n",
       "      <th>2</th>\n",
       "      <th>3</th>\n",
       "      <th>4</th>\n",
       "      <th>5</th>\n",
       "      <th>6</th>\n",
       "      <th>7</th>\n",
       "      <th>8</th>\n",
       "      <th>9</th>\n",
       "      <th>10</th>\n",
       "      <th>...</th>\n",
       "      <th>3943</th>\n",
       "      <th>3944</th>\n",
       "      <th>3945</th>\n",
       "      <th>3946</th>\n",
       "      <th>3947</th>\n",
       "      <th>3948</th>\n",
       "      <th>3949</th>\n",
       "      <th>3950</th>\n",
       "      <th>3951</th>\n",
       "      <th>3952</th>\n",
       "    </tr>\n",
       "    <tr>\n",
       "      <th>user_id</th>\n",
       "      <th></th>\n",
       "      <th></th>\n",
       "      <th></th>\n",
       "      <th></th>\n",
       "      <th></th>\n",
       "      <th></th>\n",
       "      <th></th>\n",
       "      <th></th>\n",
       "      <th></th>\n",
       "      <th></th>\n",
       "      <th></th>\n",
       "      <th></th>\n",
       "      <th></th>\n",
       "      <th></th>\n",
       "      <th></th>\n",
       "      <th></th>\n",
       "      <th></th>\n",
       "      <th></th>\n",
       "      <th></th>\n",
       "      <th></th>\n",
       "      <th></th>\n",
       "    </tr>\n",
       "  </thead>\n",
       "  <tbody>\n",
       "    <tr>\n",
       "      <th>1</th>\n",
       "      <td>5.0</td>\n",
       "      <td>NaN</td>\n",
       "      <td>NaN</td>\n",
       "      <td>NaN</td>\n",
       "      <td>NaN</td>\n",
       "      <td>NaN</td>\n",
       "      <td>NaN</td>\n",
       "      <td>NaN</td>\n",
       "      <td>NaN</td>\n",
       "      <td>NaN</td>\n",
       "      <td>...</td>\n",
       "      <td>NaN</td>\n",
       "      <td>NaN</td>\n",
       "      <td>NaN</td>\n",
       "      <td>NaN</td>\n",
       "      <td>NaN</td>\n",
       "      <td>NaN</td>\n",
       "      <td>NaN</td>\n",
       "      <td>NaN</td>\n",
       "      <td>NaN</td>\n",
       "      <td>NaN</td>\n",
       "    </tr>\n",
       "    <tr>\n",
       "      <th>2</th>\n",
       "      <td>NaN</td>\n",
       "      <td>NaN</td>\n",
       "      <td>NaN</td>\n",
       "      <td>NaN</td>\n",
       "      <td>NaN</td>\n",
       "      <td>NaN</td>\n",
       "      <td>NaN</td>\n",
       "      <td>NaN</td>\n",
       "      <td>NaN</td>\n",
       "      <td>NaN</td>\n",
       "      <td>...</td>\n",
       "      <td>NaN</td>\n",
       "      <td>NaN</td>\n",
       "      <td>NaN</td>\n",
       "      <td>NaN</td>\n",
       "      <td>NaN</td>\n",
       "      <td>NaN</td>\n",
       "      <td>NaN</td>\n",
       "      <td>NaN</td>\n",
       "      <td>NaN</td>\n",
       "      <td>NaN</td>\n",
       "    </tr>\n",
       "    <tr>\n",
       "      <th>3</th>\n",
       "      <td>NaN</td>\n",
       "      <td>NaN</td>\n",
       "      <td>NaN</td>\n",
       "      <td>NaN</td>\n",
       "      <td>NaN</td>\n",
       "      <td>NaN</td>\n",
       "      <td>NaN</td>\n",
       "      <td>NaN</td>\n",
       "      <td>NaN</td>\n",
       "      <td>NaN</td>\n",
       "      <td>...</td>\n",
       "      <td>NaN</td>\n",
       "      <td>NaN</td>\n",
       "      <td>NaN</td>\n",
       "      <td>NaN</td>\n",
       "      <td>NaN</td>\n",
       "      <td>NaN</td>\n",
       "      <td>NaN</td>\n",
       "      <td>NaN</td>\n",
       "      <td>NaN</td>\n",
       "      <td>NaN</td>\n",
       "    </tr>\n",
       "    <tr>\n",
       "      <th>4</th>\n",
       "      <td>NaN</td>\n",
       "      <td>NaN</td>\n",
       "      <td>NaN</td>\n",
       "      <td>NaN</td>\n",
       "      <td>NaN</td>\n",
       "      <td>NaN</td>\n",
       "      <td>NaN</td>\n",
       "      <td>NaN</td>\n",
       "      <td>NaN</td>\n",
       "      <td>NaN</td>\n",
       "      <td>...</td>\n",
       "      <td>NaN</td>\n",
       "      <td>NaN</td>\n",
       "      <td>NaN</td>\n",
       "      <td>NaN</td>\n",
       "      <td>NaN</td>\n",
       "      <td>NaN</td>\n",
       "      <td>NaN</td>\n",
       "      <td>NaN</td>\n",
       "      <td>NaN</td>\n",
       "      <td>NaN</td>\n",
       "    </tr>\n",
       "    <tr>\n",
       "      <th>5</th>\n",
       "      <td>NaN</td>\n",
       "      <td>NaN</td>\n",
       "      <td>NaN</td>\n",
       "      <td>NaN</td>\n",
       "      <td>NaN</td>\n",
       "      <td>2.0</td>\n",
       "      <td>NaN</td>\n",
       "      <td>NaN</td>\n",
       "      <td>NaN</td>\n",
       "      <td>NaN</td>\n",
       "      <td>...</td>\n",
       "      <td>NaN</td>\n",
       "      <td>NaN</td>\n",
       "      <td>NaN</td>\n",
       "      <td>NaN</td>\n",
       "      <td>NaN</td>\n",
       "      <td>NaN</td>\n",
       "      <td>NaN</td>\n",
       "      <td>NaN</td>\n",
       "      <td>NaN</td>\n",
       "      <td>NaN</td>\n",
       "    </tr>\n",
       "  </tbody>\n",
       "</table>\n",
       "<p>5 rows × 3706 columns</p>\n",
       "</div>"
      ],
      "text/plain": [
       "movie_id  1     2     3     4     5     6     7     8     9     10    ...   \\\n",
       "user_id                                                               ...    \n",
       "1          5.0   NaN   NaN   NaN   NaN   NaN   NaN   NaN   NaN   NaN  ...    \n",
       "2          NaN   NaN   NaN   NaN   NaN   NaN   NaN   NaN   NaN   NaN  ...    \n",
       "3          NaN   NaN   NaN   NaN   NaN   NaN   NaN   NaN   NaN   NaN  ...    \n",
       "4          NaN   NaN   NaN   NaN   NaN   NaN   NaN   NaN   NaN   NaN  ...    \n",
       "5          NaN   NaN   NaN   NaN   NaN   2.0   NaN   NaN   NaN   NaN  ...    \n",
       "\n",
       "movie_id  3943  3944  3945  3946  3947  3948  3949  3950  3951  3952  \n",
       "user_id                                                               \n",
       "1          NaN   NaN   NaN   NaN   NaN   NaN   NaN   NaN   NaN   NaN  \n",
       "2          NaN   NaN   NaN   NaN   NaN   NaN   NaN   NaN   NaN   NaN  \n",
       "3          NaN   NaN   NaN   NaN   NaN   NaN   NaN   NaN   NaN   NaN  \n",
       "4          NaN   NaN   NaN   NaN   NaN   NaN   NaN   NaN   NaN   NaN  \n",
       "5          NaN   NaN   NaN   NaN   NaN   NaN   NaN   NaN   NaN   NaN  \n",
       "\n",
       "[5 rows x 3706 columns]"
      ]
     },
     "execution_count": 44,
     "metadata": {},
     "output_type": "execute_result"
    }
   ],
   "source": [
    "ratings_mtx_df.head()"
   ]
  },
  {
   "cell_type": "code",
   "execution_count": 45,
   "metadata": {
    "collapsed": false,
    "slideshow": {
     "slide_type": "slide"
    }
   },
   "outputs": [],
   "source": [
    "'''\n",
    "http://web.eecs.umich.edu/~cscott/past_courses/eecs545f11/projects/AsendorfMcgaffinPressSchwartz.pdf\n",
    "\n",
    "Mixture Mean Algorithm for data imputation\n",
    "\n",
    "0.452µuser(j) + 0.548µmovie(i) \n",
    "'''\n",
    "\n",
    "user_avgs = ratings_mtx_df.mean(axis=1)\n",
    "movie_avgs = ratings_mtx_df.mean(axis=0)\n",
    "\n",
    "user_alpha = 0.452\n",
    "movie_alpha = 0.548\n",
    "\n",
    "user_fill_values = user_alpha * user_avgs\n",
    "movie_fill_values = movie_alpha * movie_avgs\n",
    "\n",
    "for movie_id in ratings_mtx_df.columns:\n",
    "    ratings_mtx_df.loc[:,movie_id][ratings_mtx_df.loc[:,movie_id].isnull()] = movie_fill_values[movie_id] + user_fill_values"
   ]
  },
  {
   "cell_type": "code",
   "execution_count": 46,
   "metadata": {
    "collapsed": false
   },
   "outputs": [
    {
     "data": {
      "text/html": [
       "<div>\n",
       "<table border=\"1\" class=\"dataframe\">\n",
       "  <thead>\n",
       "    <tr style=\"text-align: right;\">\n",
       "      <th>movie_id</th>\n",
       "      <th>1</th>\n",
       "      <th>2</th>\n",
       "      <th>3</th>\n",
       "      <th>4</th>\n",
       "      <th>5</th>\n",
       "      <th>6</th>\n",
       "      <th>7</th>\n",
       "      <th>8</th>\n",
       "      <th>9</th>\n",
       "      <th>10</th>\n",
       "      <th>...</th>\n",
       "      <th>3943</th>\n",
       "      <th>3944</th>\n",
       "      <th>3945</th>\n",
       "      <th>3946</th>\n",
       "      <th>3947</th>\n",
       "      <th>3948</th>\n",
       "      <th>3949</th>\n",
       "      <th>3950</th>\n",
       "      <th>3951</th>\n",
       "      <th>3952</th>\n",
       "    </tr>\n",
       "    <tr>\n",
       "      <th>user_id</th>\n",
       "      <th></th>\n",
       "      <th></th>\n",
       "      <th></th>\n",
       "      <th></th>\n",
       "      <th></th>\n",
       "      <th></th>\n",
       "      <th></th>\n",
       "      <th></th>\n",
       "      <th></th>\n",
       "      <th></th>\n",
       "      <th></th>\n",
       "      <th></th>\n",
       "      <th></th>\n",
       "      <th></th>\n",
       "      <th></th>\n",
       "      <th></th>\n",
       "      <th></th>\n",
       "      <th></th>\n",
       "      <th></th>\n",
       "      <th></th>\n",
       "      <th></th>\n",
       "    </tr>\n",
       "  </thead>\n",
       "  <tbody>\n",
       "    <tr>\n",
       "      <th>1</th>\n",
       "      <td>5.000000</td>\n",
       "      <td>3.647508</td>\n",
       "      <td>3.546455</td>\n",
       "      <td>3.389001</td>\n",
       "      <td>3.540986</td>\n",
       "      <td>4.018823</td>\n",
       "      <td>3.762226</td>\n",
       "      <td>3.545342</td>\n",
       "      <td>3.349244</td>\n",
       "      <td>3.833499</td>\n",
       "      <td>...</td>\n",
       "      <td>3.565825</td>\n",
       "      <td>3.050172</td>\n",
       "      <td>2.708911</td>\n",
       "      <td>3.131763</td>\n",
       "      <td>3.796338</td>\n",
       "      <td>3.885664</td>\n",
       "      <td>4.148375</td>\n",
       "      <td>3.902616</td>\n",
       "      <td>4.030483</td>\n",
       "      <td>3.965231</td>\n",
       "    </tr>\n",
       "    <tr>\n",
       "      <th>2</th>\n",
       "      <td>3.950828</td>\n",
       "      <td>3.432582</td>\n",
       "      <td>3.331528</td>\n",
       "      <td>3.174074</td>\n",
       "      <td>3.326059</td>\n",
       "      <td>3.803897</td>\n",
       "      <td>3.547300</td>\n",
       "      <td>3.330415</td>\n",
       "      <td>3.134317</td>\n",
       "      <td>3.618573</td>\n",
       "      <td>...</td>\n",
       "      <td>3.350898</td>\n",
       "      <td>2.835245</td>\n",
       "      <td>2.493984</td>\n",
       "      <td>2.916837</td>\n",
       "      <td>3.581411</td>\n",
       "      <td>3.670737</td>\n",
       "      <td>3.933449</td>\n",
       "      <td>3.687690</td>\n",
       "      <td>3.815557</td>\n",
       "      <td>3.750305</td>\n",
       "    </tr>\n",
       "    <tr>\n",
       "      <th>3</th>\n",
       "      <td>4.036158</td>\n",
       "      <td>3.517912</td>\n",
       "      <td>3.416858</td>\n",
       "      <td>3.259404</td>\n",
       "      <td>3.411389</td>\n",
       "      <td>3.889227</td>\n",
       "      <td>3.632630</td>\n",
       "      <td>3.415745</td>\n",
       "      <td>3.219647</td>\n",
       "      <td>3.703902</td>\n",
       "      <td>...</td>\n",
       "      <td>3.436228</td>\n",
       "      <td>2.920575</td>\n",
       "      <td>2.579314</td>\n",
       "      <td>3.002166</td>\n",
       "      <td>3.666741</td>\n",
       "      <td>3.756067</td>\n",
       "      <td>4.018778</td>\n",
       "      <td>3.773020</td>\n",
       "      <td>3.900886</td>\n",
       "      <td>3.835635</td>\n",
       "    </tr>\n",
       "    <tr>\n",
       "      <th>4</th>\n",
       "      <td>4.166567</td>\n",
       "      <td>3.648321</td>\n",
       "      <td>3.547267</td>\n",
       "      <td>3.389813</td>\n",
       "      <td>3.541798</td>\n",
       "      <td>4.019636</td>\n",
       "      <td>3.763038</td>\n",
       "      <td>3.546154</td>\n",
       "      <td>3.350056</td>\n",
       "      <td>3.834311</td>\n",
       "      <td>...</td>\n",
       "      <td>3.566637</td>\n",
       "      <td>3.050984</td>\n",
       "      <td>2.709723</td>\n",
       "      <td>3.132575</td>\n",
       "      <td>3.797150</td>\n",
       "      <td>3.886476</td>\n",
       "      <td>4.149187</td>\n",
       "      <td>3.903429</td>\n",
       "      <td>4.031295</td>\n",
       "      <td>3.966044</td>\n",
       "    </tr>\n",
       "    <tr>\n",
       "      <th>5</th>\n",
       "      <td>3.694674</td>\n",
       "      <td>3.176427</td>\n",
       "      <td>3.075374</td>\n",
       "      <td>2.917920</td>\n",
       "      <td>3.069905</td>\n",
       "      <td>2.000000</td>\n",
       "      <td>3.291145</td>\n",
       "      <td>3.074261</td>\n",
       "      <td>2.878163</td>\n",
       "      <td>3.362418</td>\n",
       "      <td>...</td>\n",
       "      <td>3.094744</td>\n",
       "      <td>2.579091</td>\n",
       "      <td>2.237830</td>\n",
       "      <td>2.660682</td>\n",
       "      <td>3.325257</td>\n",
       "      <td>3.414583</td>\n",
       "      <td>3.677294</td>\n",
       "      <td>3.431535</td>\n",
       "      <td>3.559402</td>\n",
       "      <td>3.494150</td>\n",
       "    </tr>\n",
       "  </tbody>\n",
       "</table>\n",
       "<p>5 rows × 3706 columns</p>\n",
       "</div>"
      ],
      "text/plain": [
       "movie_id      1         2         3         4         5         6     \\\n",
       "user_id                                                                \n",
       "1         5.000000  3.647508  3.546455  3.389001  3.540986  4.018823   \n",
       "2         3.950828  3.432582  3.331528  3.174074  3.326059  3.803897   \n",
       "3         4.036158  3.517912  3.416858  3.259404  3.411389  3.889227   \n",
       "4         4.166567  3.648321  3.547267  3.389813  3.541798  4.019636   \n",
       "5         3.694674  3.176427  3.075374  2.917920  3.069905  2.000000   \n",
       "\n",
       "movie_id      7         8         9         10      ...         3943  \\\n",
       "user_id                                             ...                \n",
       "1         3.762226  3.545342  3.349244  3.833499    ...     3.565825   \n",
       "2         3.547300  3.330415  3.134317  3.618573    ...     3.350898   \n",
       "3         3.632630  3.415745  3.219647  3.703902    ...     3.436228   \n",
       "4         3.763038  3.546154  3.350056  3.834311    ...     3.566637   \n",
       "5         3.291145  3.074261  2.878163  3.362418    ...     3.094744   \n",
       "\n",
       "movie_id      3944      3945      3946      3947      3948      3949  \\\n",
       "user_id                                                                \n",
       "1         3.050172  2.708911  3.131763  3.796338  3.885664  4.148375   \n",
       "2         2.835245  2.493984  2.916837  3.581411  3.670737  3.933449   \n",
       "3         2.920575  2.579314  3.002166  3.666741  3.756067  4.018778   \n",
       "4         3.050984  2.709723  3.132575  3.797150  3.886476  4.149187   \n",
       "5         2.579091  2.237830  2.660682  3.325257  3.414583  3.677294   \n",
       "\n",
       "movie_id      3950      3951      3952  \n",
       "user_id                                 \n",
       "1         3.902616  4.030483  3.965231  \n",
       "2         3.687690  3.815557  3.750305  \n",
       "3         3.773020  3.900886  3.835635  \n",
       "4         3.903429  4.031295  3.966044  \n",
       "5         3.431535  3.559402  3.494150  \n",
       "\n",
       "[5 rows x 3706 columns]"
      ]
     },
     "execution_count": 46,
     "metadata": {},
     "output_type": "execute_result"
    }
   ],
   "source": [
    "ratings_mtx_df.head()"
   ]
  },
  {
   "cell_type": "code",
   "execution_count": 47,
   "metadata": {
    "collapsed": false,
    "slideshow": {
     "slide_type": "slide"
    }
   },
   "outputs": [
    {
     "data": {
      "text/plain": [
       "(6040, 3706)"
      ]
     },
     "execution_count": 47,
     "metadata": {},
     "output_type": "execute_result"
    }
   ],
   "source": [
    "ratings_mtx = ratings_mtx_df.as_matrix()\n",
    "ratings_mtx.shape"
   ]
  },
  {
   "cell_type": "markdown",
   "metadata": {
    "slideshow": {
     "slide_type": "-"
    }
   },
   "source": [
    "We normalize the values by substracting the mean"
   ]
  },
  {
   "cell_type": "code",
   "execution_count": 48,
   "metadata": {
    "collapsed": false
   },
   "outputs": [],
   "source": [
    "ratings_mtx -= ratings_mtx.mean(axis=0)"
   ]
  },
  {
   "cell_type": "code",
   "execution_count": 49,
   "metadata": {
    "collapsed": true,
    "slideshow": {
     "slide_type": "slide"
    }
   },
   "outputs": [],
   "source": [
    "from scipy.sparse.linalg import svds\n",
    "\n",
    "u,s, vt = svds(ratings_mtx,  k = 100)\n",
    "s_diag_matrix = np.zeros((s.shape[0], s.shape[0]))\n",
    "\n",
    "for i in range(s.shape[0]):\n",
    "    s_diag_matrix[i,i] = s[i]\n",
    "    \n",
    "X_lr = np.dot(np.dot(u, s_diag_matrix), vt)"
   ]
  },
  {
   "cell_type": "markdown",
   "metadata": {
    "slideshow": {
     "slide_type": "slide"
    }
   },
   "source": [
    "Now we have a matrix that has the same rank as the original one but that is much less sparse"
   ]
  },
  {
   "cell_type": "code",
   "execution_count": 50,
   "metadata": {
    "collapsed": false
   },
   "outputs": [
    {
     "data": {
      "text/plain": [
       "array([[ 0.52805675,  0.24178712,  0.32304414, ...,  0.22931869,\n",
       "         0.22138418,  0.20595553],\n",
       "       [ 0.01958462, -0.09468096,  0.09954601, ..., -0.00704268,\n",
       "         0.00855895, -0.04017098],\n",
       "       [-0.14653931,  0.06395302,  0.15608795, ...,  0.07448842,\n",
       "         0.08648682,  0.03406283],\n",
       "       ..., \n",
       "       [-0.01194653,  0.18973783, -0.05391132, ...,  0.04176359,\n",
       "         0.04398215,  0.07126904],\n",
       "       [ 0.13725914,  0.00369558,  0.09266569, ...,  0.07563042,\n",
       "         0.07424781,  0.11557894],\n",
       "       [-0.33178927, -0.28589298, -0.12613732, ..., -0.03126921,\n",
       "        -0.01449678, -0.07422521]])"
      ]
     },
     "execution_count": 50,
     "metadata": {},
     "output_type": "execute_result"
    }
   ],
   "source": [
    "X_lr"
   ]
  },
  {
   "cell_type": "code",
   "execution_count": 51,
   "metadata": {
    "collapsed": false
   },
   "outputs": [
    {
     "data": {
      "text/plain": [
       "(6040, 3706)"
      ]
     },
     "execution_count": 51,
     "metadata": {},
     "output_type": "execute_result"
    }
   ],
   "source": [
    "X_lr.shape"
   ]
  },
  {
   "cell_type": "code",
   "execution_count": 52,
   "metadata": {
    "collapsed": false,
    "slideshow": {
     "slide_type": "slide"
    }
   },
   "outputs": [
    {
     "data": {
      "text/html": [
       "<div>\n",
       "<table border=\"1\" class=\"dataframe\">\n",
       "  <thead>\n",
       "    <tr style=\"text-align: right;\">\n",
       "      <th></th>\n",
       "      <th>user_id</th>\n",
       "      <th>movie_id</th>\n",
       "      <th>rating</th>\n",
       "      <th>movie_title</th>\n",
       "      <th>movie_genre</th>\n",
       "    </tr>\n",
       "  </thead>\n",
       "  <tbody>\n",
       "    <tr>\n",
       "      <th>1</th>\n",
       "      <td>21</td>\n",
       "      <td>2700</td>\n",
       "      <td>5</td>\n",
       "      <td>South Park: Bigger, Longer and Uncut (1999)</td>\n",
       "      <td>Animation|Comedy</td>\n",
       "    </tr>\n",
       "    <tr>\n",
       "      <th>17</th>\n",
       "      <td>21</td>\n",
       "      <td>1210</td>\n",
       "      <td>5</td>\n",
       "      <td>Star Wars: Episode VI - Return of the Jedi (1983)</td>\n",
       "      <td>Action|Adventure|Romance|Sci-Fi|War</td>\n",
       "    </tr>\n",
       "    <tr>\n",
       "      <th>15</th>\n",
       "      <td>21</td>\n",
       "      <td>3745</td>\n",
       "      <td>5</td>\n",
       "      <td>Titan A.E. (2000)</td>\n",
       "      <td>Adventure|Animation|Sci-Fi</td>\n",
       "    </tr>\n",
       "    <tr>\n",
       "      <th>5</th>\n",
       "      <td>21</td>\n",
       "      <td>3000</td>\n",
       "      <td>5</td>\n",
       "      <td>Princess Mononoke, The (Mononoke Hime) (1997)</td>\n",
       "      <td>Action|Adventure|Animation</td>\n",
       "    </tr>\n",
       "    <tr>\n",
       "      <th>11</th>\n",
       "      <td>21</td>\n",
       "      <td>3704</td>\n",
       "      <td>4</td>\n",
       "      <td>Mad Max Beyond Thunderdome (1985)</td>\n",
       "      <td>Action|Sci-Fi</td>\n",
       "    </tr>\n",
       "    <tr>\n",
       "      <th>9</th>\n",
       "      <td>21</td>\n",
       "      <td>2800</td>\n",
       "      <td>4</td>\n",
       "      <td>Little Nemo: Adventures in Slumberland (1992)</td>\n",
       "      <td>Animation|Children's</td>\n",
       "    </tr>\n",
       "    <tr>\n",
       "      <th>19</th>\n",
       "      <td>21</td>\n",
       "      <td>3268</td>\n",
       "      <td>3</td>\n",
       "      <td>Stop! Or My Mom Will Shoot (1992)</td>\n",
       "      <td>Action|Comedy</td>\n",
       "    </tr>\n",
       "    <tr>\n",
       "      <th>14</th>\n",
       "      <td>21</td>\n",
       "      <td>2294</td>\n",
       "      <td>3</td>\n",
       "      <td>Antz (1998)</td>\n",
       "      <td>Animation|Children's</td>\n",
       "    </tr>\n",
       "    <tr>\n",
       "      <th>13</th>\n",
       "      <td>21</td>\n",
       "      <td>2355</td>\n",
       "      <td>3</td>\n",
       "      <td>Bug's Life, A (1998)</td>\n",
       "      <td>Animation|Children's|Comedy</td>\n",
       "    </tr>\n",
       "    <tr>\n",
       "      <th>12</th>\n",
       "      <td>21</td>\n",
       "      <td>2761</td>\n",
       "      <td>3</td>\n",
       "      <td>Iron Giant, The (1999)</td>\n",
       "      <td>Animation|Children's</td>\n",
       "    </tr>\n",
       "    <tr>\n",
       "      <th>0</th>\n",
       "      <td>21</td>\n",
       "      <td>2987</td>\n",
       "      <td>3</td>\n",
       "      <td>Who Framed Roger Rabbit? (1988)</td>\n",
       "      <td>Adventure|Animation|Film-Noir</td>\n",
       "    </tr>\n",
       "    <tr>\n",
       "      <th>8</th>\n",
       "      <td>21</td>\n",
       "      <td>1274</td>\n",
       "      <td>3</td>\n",
       "      <td>Akira (1988)</td>\n",
       "      <td>Adventure|Animation|Sci-Fi|Thriller</td>\n",
       "    </tr>\n",
       "    <tr>\n",
       "      <th>6</th>\n",
       "      <td>21</td>\n",
       "      <td>1</td>\n",
       "      <td>3</td>\n",
       "      <td>Toy Story (1995)</td>\n",
       "      <td>Animation|Children's|Comedy</td>\n",
       "    </tr>\n",
       "    <tr>\n",
       "      <th>4</th>\n",
       "      <td>21</td>\n",
       "      <td>588</td>\n",
       "      <td>3</td>\n",
       "      <td>Aladdin (1992)</td>\n",
       "      <td>Animation|Children's|Comedy|Musical</td>\n",
       "    </tr>\n",
       "    <tr>\n",
       "      <th>3</th>\n",
       "      <td>21</td>\n",
       "      <td>585</td>\n",
       "      <td>3</td>\n",
       "      <td>Brady Bunch Movie, The (1995)</td>\n",
       "      <td>Comedy</td>\n",
       "    </tr>\n",
       "    <tr>\n",
       "      <th>2</th>\n",
       "      <td>21</td>\n",
       "      <td>2701</td>\n",
       "      <td>3</td>\n",
       "      <td>Wild Wild West (1999)</td>\n",
       "      <td>Action|Sci-Fi|Western</td>\n",
       "    </tr>\n",
       "    <tr>\n",
       "      <th>10</th>\n",
       "      <td>21</td>\n",
       "      <td>3053</td>\n",
       "      <td>1</td>\n",
       "      <td>Messenger: The Story of Joan of Arc, The (1999)</td>\n",
       "      <td>Drama|War</td>\n",
       "    </tr>\n",
       "    <tr>\n",
       "      <th>7</th>\n",
       "      <td>21</td>\n",
       "      <td>596</td>\n",
       "      <td>1</td>\n",
       "      <td>Pinocchio (1940)</td>\n",
       "      <td>Animation|Children's</td>\n",
       "    </tr>\n",
       "    <tr>\n",
       "      <th>16</th>\n",
       "      <td>21</td>\n",
       "      <td>1645</td>\n",
       "      <td>1</td>\n",
       "      <td>Devil's Advocate, The (1997)</td>\n",
       "      <td>Crime|Horror|Mystery|Thriller</td>\n",
       "    </tr>\n",
       "    <tr>\n",
       "      <th>18</th>\n",
       "      <td>21</td>\n",
       "      <td>2018</td>\n",
       "      <td>1</td>\n",
       "      <td>Bambi (1942)</td>\n",
       "      <td>Animation|Children's</td>\n",
       "    </tr>\n",
       "    <tr>\n",
       "      <th>20</th>\n",
       "      <td>21</td>\n",
       "      <td>2394</td>\n",
       "      <td>1</td>\n",
       "      <td>Prince of Egypt, The (1998)</td>\n",
       "      <td>Animation|Musical</td>\n",
       "    </tr>\n",
       "    <tr>\n",
       "      <th>21</th>\n",
       "      <td>21</td>\n",
       "      <td>3774</td>\n",
       "      <td>1</td>\n",
       "      <td>House Party 2 (1991)</td>\n",
       "      <td>Comedy</td>\n",
       "    </tr>\n",
       "  </tbody>\n",
       "</table>\n",
       "</div>"
      ],
      "text/plain": [
       "    user_id  movie_id  rating  \\\n",
       "1        21      2700       5   \n",
       "17       21      1210       5   \n",
       "15       21      3745       5   \n",
       "5        21      3000       5   \n",
       "11       21      3704       4   \n",
       "9        21      2800       4   \n",
       "19       21      3268       3   \n",
       "14       21      2294       3   \n",
       "13       21      2355       3   \n",
       "12       21      2761       3   \n",
       "0        21      2987       3   \n",
       "8        21      1274       3   \n",
       "6        21         1       3   \n",
       "4        21       588       3   \n",
       "3        21       585       3   \n",
       "2        21      2701       3   \n",
       "10       21      3053       1   \n",
       "7        21       596       1   \n",
       "16       21      1645       1   \n",
       "18       21      2018       1   \n",
       "20       21      2394       1   \n",
       "21       21      3774       1   \n",
       "\n",
       "                                          movie_title  \\\n",
       "1         South Park: Bigger, Longer and Uncut (1999)   \n",
       "17  Star Wars: Episode VI - Return of the Jedi (1983)   \n",
       "15                                  Titan A.E. (2000)   \n",
       "5       Princess Mononoke, The (Mononoke Hime) (1997)   \n",
       "11                  Mad Max Beyond Thunderdome (1985)   \n",
       "9       Little Nemo: Adventures in Slumberland (1992)   \n",
       "19                  Stop! Or My Mom Will Shoot (1992)   \n",
       "14                                        Antz (1998)   \n",
       "13                               Bug's Life, A (1998)   \n",
       "12                             Iron Giant, The (1999)   \n",
       "0                     Who Framed Roger Rabbit? (1988)   \n",
       "8                                        Akira (1988)   \n",
       "6                                    Toy Story (1995)   \n",
       "4                                      Aladdin (1992)   \n",
       "3                       Brady Bunch Movie, The (1995)   \n",
       "2                               Wild Wild West (1999)   \n",
       "10    Messenger: The Story of Joan of Arc, The (1999)   \n",
       "7                                    Pinocchio (1940)   \n",
       "16                       Devil's Advocate, The (1997)   \n",
       "18                                       Bambi (1942)   \n",
       "20                        Prince of Egypt, The (1998)   \n",
       "21                               House Party 2 (1991)   \n",
       "\n",
       "                            movie_genre  \n",
       "1                      Animation|Comedy  \n",
       "17  Action|Adventure|Romance|Sci-Fi|War  \n",
       "15           Adventure|Animation|Sci-Fi  \n",
       "5            Action|Adventure|Animation  \n",
       "11                        Action|Sci-Fi  \n",
       "9                  Animation|Children's  \n",
       "19                        Action|Comedy  \n",
       "14                 Animation|Children's  \n",
       "13          Animation|Children's|Comedy  \n",
       "12                 Animation|Children's  \n",
       "0         Adventure|Animation|Film-Noir  \n",
       "8   Adventure|Animation|Sci-Fi|Thriller  \n",
       "6           Animation|Children's|Comedy  \n",
       "4   Animation|Children's|Comedy|Musical  \n",
       "3                                Comedy  \n",
       "2                 Action|Sci-Fi|Western  \n",
       "10                            Drama|War  \n",
       "7                  Animation|Children's  \n",
       "16        Crime|Horror|Mystery|Thriller  \n",
       "18                 Animation|Children's  \n",
       "20                    Animation|Musical  \n",
       "21                               Comedy  "
      ]
     },
     "execution_count": 52,
     "metadata": {},
     "output_type": "execute_result"
    }
   ],
   "source": [
    "sample_user = 21\n",
    "user_ratings = ratings_df[ratings_df.user_id==sample_user].merge(\n",
    "               movies_df, on='movie_id'\n",
    "              ).sort_values(by='rating',ascending=False)\n",
    "user_ratings_movies = user_ratings.movie_id.tolist()\n",
    "user_ratings"
   ]
  },
  {
   "cell_type": "markdown",
   "metadata": {
    "slideshow": {
     "slide_type": "notes"
    }
   },
   "source": [
    "So we see this user has a strong preference for animation , comedy and action"
   ]
  },
  {
   "cell_type": "code",
   "execution_count": 53,
   "metadata": {
    "collapsed": false,
    "slideshow": {
     "slide_type": "slide"
    }
   },
   "outputs": [
    {
     "data": {
      "text/html": [
       "<div>\n",
       "<table border=\"1\" class=\"dataframe\">\n",
       "  <thead>\n",
       "    <tr style=\"text-align: right;\">\n",
       "      <th></th>\n",
       "      <th>movie_id</th>\n",
       "      <th>normalized_score</th>\n",
       "      <th>pred_score</th>\n",
       "      <th>movie_title</th>\n",
       "      <th>movie_genre</th>\n",
       "    </tr>\n",
       "  </thead>\n",
       "  <tbody>\n",
       "    <tr>\n",
       "      <th>0</th>\n",
       "      <td>2699</td>\n",
       "      <td>-0.304906</td>\n",
       "      <td>-0.157461</td>\n",
       "      <td>Arachnophobia (1990)</td>\n",
       "      <td>Action|Comedy|Sci-Fi|Thriller</td>\n",
       "    </tr>\n",
       "    <tr>\n",
       "      <th>1</th>\n",
       "      <td>1196</td>\n",
       "      <td>-0.491275</td>\n",
       "      <td>-0.178976</td>\n",
       "      <td>Star Wars: Episode V - The Empire Strikes Back...</td>\n",
       "      <td>Action|Adventure|Drama|Sci-Fi|War</td>\n",
       "    </tr>\n",
       "    <tr>\n",
       "      <th>2</th>\n",
       "      <td>1405</td>\n",
       "      <td>-0.344705</td>\n",
       "      <td>-0.191407</td>\n",
       "      <td>Beavis and Butt-head Do America (1996)</td>\n",
       "      <td>Animation|Comedy</td>\n",
       "    </tr>\n",
       "    <tr>\n",
       "      <th>3</th>\n",
       "      <td>2012</td>\n",
       "      <td>-0.334497</td>\n",
       "      <td>-0.192460</td>\n",
       "      <td>Back to the Future Part III (1990)</td>\n",
       "      <td>Comedy|Sci-Fi|Western</td>\n",
       "    </tr>\n",
       "    <tr>\n",
       "      <th>4</th>\n",
       "      <td>2628</td>\n",
       "      <td>-0.322285</td>\n",
       "      <td>-0.203008</td>\n",
       "      <td>Star Wars: Episode I - The Phantom Menace (1999)</td>\n",
       "      <td>Action|Adventure|Fantasy|Sci-Fi</td>\n",
       "    </tr>\n",
       "    <tr>\n",
       "      <th>5</th>\n",
       "      <td>2657</td>\n",
       "      <td>-0.331750</td>\n",
       "      <td>-0.204444</td>\n",
       "      <td>Rocky Horror Picture Show, The (1975)</td>\n",
       "      <td>Comedy|Horror|Musical|Sci-Fi</td>\n",
       "    </tr>\n",
       "    <tr>\n",
       "      <th>6</th>\n",
       "      <td>597</td>\n",
       "      <td>-0.364036</td>\n",
       "      <td>-0.212922</td>\n",
       "      <td>Pretty Woman (1990)</td>\n",
       "      <td>Comedy|Romance</td>\n",
       "    </tr>\n",
       "    <tr>\n",
       "      <th>7</th>\n",
       "      <td>780</td>\n",
       "      <td>-0.349633</td>\n",
       "      <td>-0.233169</td>\n",
       "      <td>Independence Day (ID4) (1996)</td>\n",
       "      <td>Action|Sci-Fi|War</td>\n",
       "    </tr>\n",
       "    <tr>\n",
       "      <th>8</th>\n",
       "      <td>546</td>\n",
       "      <td>-0.320233</td>\n",
       "      <td>-0.236172</td>\n",
       "      <td>Super Mario Bros. (1993)</td>\n",
       "      <td>Action|Adventure|Children's|Sci-Fi</td>\n",
       "    </tr>\n",
       "    <tr>\n",
       "      <th>9</th>\n",
       "      <td>849</td>\n",
       "      <td>-0.322850</td>\n",
       "      <td>-0.241353</td>\n",
       "      <td>Escape from L.A. (1996)</td>\n",
       "      <td>Action|Adventure|Sci-Fi|Thriller</td>\n",
       "    </tr>\n",
       "    <tr>\n",
       "      <th>10</th>\n",
       "      <td>1917</td>\n",
       "      <td>-0.331129</td>\n",
       "      <td>-0.243973</td>\n",
       "      <td>Armageddon (1998)</td>\n",
       "      <td>Action|Adventure|Sci-Fi|Thriller</td>\n",
       "    </tr>\n",
       "    <tr>\n",
       "      <th>11</th>\n",
       "      <td>3033</td>\n",
       "      <td>-0.343274</td>\n",
       "      <td>-0.245560</td>\n",
       "      <td>Spaceballs (1987)</td>\n",
       "      <td>Comedy|Sci-Fi</td>\n",
       "    </tr>\n",
       "    <tr>\n",
       "      <th>12</th>\n",
       "      <td>442</td>\n",
       "      <td>-0.335771</td>\n",
       "      <td>-0.247444</td>\n",
       "      <td>Demolition Man (1993)</td>\n",
       "      <td>Action|Sci-Fi</td>\n",
       "    </tr>\n",
       "    <tr>\n",
       "      <th>13</th>\n",
       "      <td>2427</td>\n",
       "      <td>-0.348146</td>\n",
       "      <td>-0.251078</td>\n",
       "      <td>Thin Red Line, The (1998)</td>\n",
       "      <td>Action|Drama|War</td>\n",
       "    </tr>\n",
       "    <tr>\n",
       "      <th>14</th>\n",
       "      <td>737</td>\n",
       "      <td>-0.327698</td>\n",
       "      <td>-0.253248</td>\n",
       "      <td>Barb Wire (1996)</td>\n",
       "      <td>Action|Sci-Fi</td>\n",
       "    </tr>\n",
       "    <tr>\n",
       "      <th>15</th>\n",
       "      <td>1080</td>\n",
       "      <td>-0.383726</td>\n",
       "      <td>-0.255048</td>\n",
       "      <td>Monty Python's Life of Brian (1979)</td>\n",
       "      <td>Comedy</td>\n",
       "    </tr>\n",
       "    <tr>\n",
       "      <th>16</th>\n",
       "      <td>173</td>\n",
       "      <td>-0.311637</td>\n",
       "      <td>-0.256414</td>\n",
       "      <td>Judge Dredd (1995)</td>\n",
       "      <td>Action|Adventure|Sci-Fi</td>\n",
       "    </tr>\n",
       "    <tr>\n",
       "      <th>17</th>\n",
       "      <td>2022</td>\n",
       "      <td>-0.358277</td>\n",
       "      <td>-0.257692</td>\n",
       "      <td>Last Temptation of Christ, The (1988)</td>\n",
       "      <td>Drama</td>\n",
       "    </tr>\n",
       "    <tr>\n",
       "      <th>18</th>\n",
       "      <td>1882</td>\n",
       "      <td>-0.318121</td>\n",
       "      <td>-0.258350</td>\n",
       "      <td>Godzilla (1998)</td>\n",
       "      <td>Action|Sci-Fi</td>\n",
       "    </tr>\n",
       "    <tr>\n",
       "      <th>19</th>\n",
       "      <td>1320</td>\n",
       "      <td>-0.327142</td>\n",
       "      <td>-0.263105</td>\n",
       "      <td>Alien� (1992)</td>\n",
       "      <td>Action|Horror|Sci-Fi|Thriller</td>\n",
       "    </tr>\n",
       "  </tbody>\n",
       "</table>\n",
       "</div>"
      ],
      "text/plain": [
       "    movie_id  normalized_score  pred_score  \\\n",
       "0       2699         -0.304906   -0.157461   \n",
       "1       1196         -0.491275   -0.178976   \n",
       "2       1405         -0.344705   -0.191407   \n",
       "3       2012         -0.334497   -0.192460   \n",
       "4       2628         -0.322285   -0.203008   \n",
       "5       2657         -0.331750   -0.204444   \n",
       "6        597         -0.364036   -0.212922   \n",
       "7        780         -0.349633   -0.233169   \n",
       "8        546         -0.320233   -0.236172   \n",
       "9        849         -0.322850   -0.241353   \n",
       "10      1917         -0.331129   -0.243973   \n",
       "11      3033         -0.343274   -0.245560   \n",
       "12       442         -0.335771   -0.247444   \n",
       "13      2427         -0.348146   -0.251078   \n",
       "14       737         -0.327698   -0.253248   \n",
       "15      1080         -0.383726   -0.255048   \n",
       "16       173         -0.311637   -0.256414   \n",
       "17      2022         -0.358277   -0.257692   \n",
       "18      1882         -0.318121   -0.258350   \n",
       "19      1320         -0.327142   -0.263105   \n",
       "\n",
       "                                          movie_title  \\\n",
       "0                                Arachnophobia (1990)   \n",
       "1   Star Wars: Episode V - The Empire Strikes Back...   \n",
       "2              Beavis and Butt-head Do America (1996)   \n",
       "3                  Back to the Future Part III (1990)   \n",
       "4    Star Wars: Episode I - The Phantom Menace (1999)   \n",
       "5               Rocky Horror Picture Show, The (1975)   \n",
       "6                                 Pretty Woman (1990)   \n",
       "7                       Independence Day (ID4) (1996)   \n",
       "8                            Super Mario Bros. (1993)   \n",
       "9                             Escape from L.A. (1996)   \n",
       "10                                  Armageddon (1998)   \n",
       "11                                  Spaceballs (1987)   \n",
       "12                              Demolition Man (1993)   \n",
       "13                          Thin Red Line, The (1998)   \n",
       "14                                   Barb Wire (1996)   \n",
       "15                Monty Python's Life of Brian (1979)   \n",
       "16                                 Judge Dredd (1995)   \n",
       "17              Last Temptation of Christ, The (1988)   \n",
       "18                                    Godzilla (1998)   \n",
       "19                                      Alien� (1992)   \n",
       "\n",
       "                           movie_genre  \n",
       "0        Action|Comedy|Sci-Fi|Thriller  \n",
       "1    Action|Adventure|Drama|Sci-Fi|War  \n",
       "2                     Animation|Comedy  \n",
       "3                Comedy|Sci-Fi|Western  \n",
       "4      Action|Adventure|Fantasy|Sci-Fi  \n",
       "5         Comedy|Horror|Musical|Sci-Fi  \n",
       "6                       Comedy|Romance  \n",
       "7                    Action|Sci-Fi|War  \n",
       "8   Action|Adventure|Children's|Sci-Fi  \n",
       "9     Action|Adventure|Sci-Fi|Thriller  \n",
       "10    Action|Adventure|Sci-Fi|Thriller  \n",
       "11                       Comedy|Sci-Fi  \n",
       "12                       Action|Sci-Fi  \n",
       "13                    Action|Drama|War  \n",
       "14                       Action|Sci-Fi  \n",
       "15                              Comedy  \n",
       "16             Action|Adventure|Sci-Fi  \n",
       "17                               Drama  \n",
       "18                       Action|Sci-Fi  \n",
       "19       Action|Horror|Sci-Fi|Thriller  "
      ]
     },
     "execution_count": 53,
     "metadata": {},
     "output_type": "execute_result"
    }
   ],
   "source": [
    "user_predicted_scores_df = pd.DataFrame({\n",
    "        'movie_id': movie_index,\n",
    "        'normalized_score': ratings_mtx[user_indices[sample_user],:],\n",
    "        'pred_score': X_lr[user_indices[sample_user],:]})\n",
    "user_predicted_scores_df = user_predicted_scores_df[-user_predicted_scores_df.movie_id.isin(user_ratings_movies)]\n",
    "user_predicted_scores_df.sort_values(by=['pred_score'], ascending=False).merge(movies_df, on='movie_id').head(20)"
   ]
  },
  {
   "cell_type": "markdown",
   "metadata": {
    "slideshow": {
     "slide_type": "slide"
    }
   },
   "source": [
    "![yaay](./Slides_files/yaay2.png)"
   ]
  },
  {
   "cell_type": "code",
   "execution_count": null,
   "metadata": {
    "collapsed": true
   },
   "outputs": [],
   "source": []
  }
 ],
 "metadata": {
  "celltoolbar": "Slideshow",
  "kernelspec": {
   "display_name": "Python 3",
   "language": "python",
   "name": "python3"
  },
  "language_info": {
   "codemirror_mode": {
    "name": "ipython",
    "version": 3
   },
   "file_extension": ".py",
   "mimetype": "text/x-python",
   "name": "python",
   "nbconvert_exporter": "python",
   "pygments_lexer": "ipython3",
   "version": "3.5.1"
  }
 },
 "nbformat": 4,
 "nbformat_minor": 0
}
